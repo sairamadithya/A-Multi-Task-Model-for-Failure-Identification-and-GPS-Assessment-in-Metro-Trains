{
 "cells": [
  {
   "cell_type": "code",
   "execution_count": 1,
   "id": "e333c6fd",
   "metadata": {},
   "outputs": [],
   "source": [
    "import numpy as np\n",
    "import pandas as pd\n",
    "import tensorflow\n",
    "from tensorflow import keras\n",
    "from tensorflow.keras.layers import *\n",
    "from keras import Sequential"
   ]
  },
  {
   "cell_type": "code",
   "execution_count": 2,
   "id": "14855b10",
   "metadata": {},
   "outputs": [
    {
     "data": {
      "text/html": [
       "<div>\n",
       "<style scoped>\n",
       "    .dataframe tbody tr th:only-of-type {\n",
       "        vertical-align: middle;\n",
       "    }\n",
       "\n",
       "    .dataframe tbody tr th {\n",
       "        vertical-align: top;\n",
       "    }\n",
       "\n",
       "    .dataframe thead th {\n",
       "        text-align: right;\n",
       "    }\n",
       "</style>\n",
       "<table border=\"1\" class=\"dataframe\">\n",
       "  <thead>\n",
       "    <tr style=\"text-align: right;\">\n",
       "      <th></th>\n",
       "      <th>Unnamed: 0.1</th>\n",
       "      <th>Unnamed: 0</th>\n",
       "      <th>TP2</th>\n",
       "      <th>TP3</th>\n",
       "      <th>H1</th>\n",
       "      <th>DV_pressure</th>\n",
       "      <th>Reservoirs</th>\n",
       "      <th>Oil_temperature</th>\n",
       "      <th>Flowmeter</th>\n",
       "      <th>Motor_current</th>\n",
       "      <th>...</th>\n",
       "      <th>gpsSpeed</th>\n",
       "      <th>gpsQuality</th>\n",
       "      <th>month</th>\n",
       "      <th>day</th>\n",
       "      <th>hour</th>\n",
       "      <th>minute</th>\n",
       "      <th>second</th>\n",
       "      <th>fault</th>\n",
       "      <th>location</th>\n",
       "      <th>output</th>\n",
       "    </tr>\n",
       "  </thead>\n",
       "  <tbody>\n",
       "    <tr>\n",
       "      <th>0</th>\n",
       "      <td>0</td>\n",
       "      <td>161094</td>\n",
       "      <td>-0.016</td>\n",
       "      <td>9.780</td>\n",
       "      <td>9.790</td>\n",
       "      <td>-0.026</td>\n",
       "      <td>1.610</td>\n",
       "      <td>75.600</td>\n",
       "      <td>19.030938</td>\n",
       "      <td>3.8375</td>\n",
       "      <td>...</td>\n",
       "      <td>29.0</td>\n",
       "      <td>1.0</td>\n",
       "      <td>1</td>\n",
       "      <td>3</td>\n",
       "      <td>10</td>\n",
       "      <td>44</td>\n",
       "      <td>52</td>\n",
       "      <td>2</td>\n",
       "      <td>3</td>\n",
       "      <td>3</td>\n",
       "    </tr>\n",
       "    <tr>\n",
       "      <th>1</th>\n",
       "      <td>1</td>\n",
       "      <td>160627</td>\n",
       "      <td>-0.006</td>\n",
       "      <td>8.498</td>\n",
       "      <td>8.504</td>\n",
       "      <td>-0.032</td>\n",
       "      <td>1.494</td>\n",
       "      <td>65.450</td>\n",
       "      <td>19.030938</td>\n",
       "      <td>0.0000</td>\n",
       "      <td>...</td>\n",
       "      <td>0.0</td>\n",
       "      <td>0.0</td>\n",
       "      <td>4</td>\n",
       "      <td>3</td>\n",
       "      <td>8</td>\n",
       "      <td>37</td>\n",
       "      <td>4</td>\n",
       "      <td>2</td>\n",
       "      <td>3</td>\n",
       "      <td>3</td>\n",
       "    </tr>\n",
       "    <tr>\n",
       "      <th>2</th>\n",
       "      <td>2</td>\n",
       "      <td>1660743</td>\n",
       "      <td>-0.014</td>\n",
       "      <td>9.932</td>\n",
       "      <td>9.882</td>\n",
       "      <td>-0.030</td>\n",
       "      <td>1.480</td>\n",
       "      <td>73.875</td>\n",
       "      <td>19.161750</td>\n",
       "      <td>3.7400</td>\n",
       "      <td>...</td>\n",
       "      <td>0.0</td>\n",
       "      <td>0.0</td>\n",
       "      <td>4</td>\n",
       "      <td>24</td>\n",
       "      <td>1</td>\n",
       "      <td>18</td>\n",
       "      <td>40</td>\n",
       "      <td>2</td>\n",
       "      <td>3</td>\n",
       "      <td>3</td>\n",
       "    </tr>\n",
       "    <tr>\n",
       "      <th>3</th>\n",
       "      <td>3</td>\n",
       "      <td>105131</td>\n",
       "      <td>-0.008</td>\n",
       "      <td>8.048</td>\n",
       "      <td>8.052</td>\n",
       "      <td>-0.032</td>\n",
       "      <td>1.466</td>\n",
       "      <td>62.050</td>\n",
       "      <td>18.974875</td>\n",
       "      <td>0.0000</td>\n",
       "      <td>...</td>\n",
       "      <td>0.0</td>\n",
       "      <td>0.0</td>\n",
       "      <td>4</td>\n",
       "      <td>2</td>\n",
       "      <td>13</td>\n",
       "      <td>12</td>\n",
       "      <td>9</td>\n",
       "      <td>2</td>\n",
       "      <td>3</td>\n",
       "      <td>3</td>\n",
       "    </tr>\n",
       "    <tr>\n",
       "      <th>4</th>\n",
       "      <td>4</td>\n",
       "      <td>1833969</td>\n",
       "      <td>-0.010</td>\n",
       "      <td>8.606</td>\n",
       "      <td>8.610</td>\n",
       "      <td>-0.028</td>\n",
       "      <td>1.634</td>\n",
       "      <td>58.575</td>\n",
       "      <td>18.844062</td>\n",
       "      <td>0.0025</td>\n",
       "      <td>...</td>\n",
       "      <td>0.0</td>\n",
       "      <td>1.0</td>\n",
       "      <td>1</td>\n",
       "      <td>26</td>\n",
       "      <td>15</td>\n",
       "      <td>43</td>\n",
       "      <td>18</td>\n",
       "      <td>2</td>\n",
       "      <td>3</td>\n",
       "      <td>3</td>\n",
       "    </tr>\n",
       "  </tbody>\n",
       "</table>\n",
       "<p>5 rows × 30 columns</p>\n",
       "</div>"
      ],
      "text/plain": [
       "   Unnamed: 0.1  Unnamed: 0    TP2    TP3     H1  DV_pressure  Reservoirs  \\\n",
       "0             0      161094 -0.016  9.780  9.790       -0.026       1.610   \n",
       "1             1      160627 -0.006  8.498  8.504       -0.032       1.494   \n",
       "2             2     1660743 -0.014  9.932  9.882       -0.030       1.480   \n",
       "3             3      105131 -0.008  8.048  8.052       -0.032       1.466   \n",
       "4             4     1833969 -0.010  8.606  8.610       -0.028       1.634   \n",
       "\n",
       "   Oil_temperature  Flowmeter  Motor_current  ...  gpsSpeed  gpsQuality  \\\n",
       "0           75.600  19.030938         3.8375  ...      29.0         1.0   \n",
       "1           65.450  19.030938         0.0000  ...       0.0         0.0   \n",
       "2           73.875  19.161750         3.7400  ...       0.0         0.0   \n",
       "3           62.050  18.974875         0.0000  ...       0.0         0.0   \n",
       "4           58.575  18.844062         0.0025  ...       0.0         1.0   \n",
       "\n",
       "   month  day  hour  minute  second  fault  location  output  \n",
       "0      1    3    10      44      52      2         3       3  \n",
       "1      4    3     8      37       4      2         3       3  \n",
       "2      4   24     1      18      40      2         3       3  \n",
       "3      4    2    13      12       9      2         3       3  \n",
       "4      1   26    15      43      18      2         3       3  \n",
       "\n",
       "[5 rows x 30 columns]"
      ]
     },
     "execution_count": 2,
     "metadata": {},
     "output_type": "execute_result"
    }
   ],
   "source": [
    "data=pd.read_csv(r\"C:\\Users\\sairam\\Downloads\\final_merged_data.csv\")\n",
    "data.head()"
   ]
  },
  {
   "cell_type": "code",
   "execution_count": 3,
   "id": "9c3abd75",
   "metadata": {},
   "outputs": [
    {
     "name": "stdout",
     "output_type": "stream",
     "text": [
      "<class 'pandas.core.frame.DataFrame'>\n",
      "RangeIndex: 410104 entries, 0 to 410103\n",
      "Data columns (total 30 columns):\n",
      " #   Column           Non-Null Count   Dtype  \n",
      "---  ------           --------------   -----  \n",
      " 0   Unnamed: 0.1     410104 non-null  int64  \n",
      " 1   Unnamed: 0       410104 non-null  int64  \n",
      " 2   TP2              410104 non-null  float64\n",
      " 3   TP3              410104 non-null  float64\n",
      " 4   H1               410104 non-null  float64\n",
      " 5   DV_pressure      410104 non-null  float64\n",
      " 6   Reservoirs       410104 non-null  float64\n",
      " 7   Oil_temperature  410104 non-null  float64\n",
      " 8   Flowmeter        410104 non-null  float64\n",
      " 9   Motor_current    410104 non-null  float64\n",
      " 10  COMP             410104 non-null  float64\n",
      " 11  DV_eletric       410104 non-null  float64\n",
      " 12  Towers           410104 non-null  float64\n",
      " 13  MPG              410104 non-null  float64\n",
      " 14  LPS              410104 non-null  float64\n",
      " 15  Pressure_switch  410104 non-null  float64\n",
      " 16  Oil_level        410104 non-null  float64\n",
      " 17  Caudal_impulses  410104 non-null  float64\n",
      " 18  gpsLong          410104 non-null  float64\n",
      " 19  gpsLat           410104 non-null  float64\n",
      " 20  gpsSpeed         410104 non-null  float64\n",
      " 21  gpsQuality       410104 non-null  float64\n",
      " 22  month            410104 non-null  int64  \n",
      " 23  day              410104 non-null  int64  \n",
      " 24  hour             410104 non-null  int64  \n",
      " 25  minute           410104 non-null  int64  \n",
      " 26  second           410104 non-null  int64  \n",
      " 27  fault            410104 non-null  int64  \n",
      " 28  location         410104 non-null  int64  \n",
      " 29  output           410104 non-null  int64  \n",
      "dtypes: float64(20), int64(10)\n",
      "memory usage: 93.9 MB\n"
     ]
    }
   ],
   "source": [
    "data.info()"
   ]
  },
  {
   "cell_type": "code",
   "execution_count": 4,
   "id": "9260ee32",
   "metadata": {},
   "outputs": [],
   "source": [
    "data=data.drop(['Unnamed: 0.1','Unnamed: 0','fault','location'],axis=1)"
   ]
  },
  {
   "cell_type": "code",
   "execution_count": 5,
   "id": "7ca54e72",
   "metadata": {},
   "outputs": [
    {
     "data": {
      "text/plain": [
       "TP2                0\n",
       "TP3                0\n",
       "H1                 0\n",
       "DV_pressure        0\n",
       "Reservoirs         0\n",
       "Oil_temperature    0\n",
       "Flowmeter          0\n",
       "Motor_current      0\n",
       "COMP               0\n",
       "DV_eletric         0\n",
       "Towers             0\n",
       "MPG                0\n",
       "LPS                0\n",
       "Pressure_switch    0\n",
       "Oil_level          0\n",
       "Caudal_impulses    0\n",
       "gpsLong            0\n",
       "gpsLat             0\n",
       "gpsSpeed           0\n",
       "gpsQuality         0\n",
       "month              0\n",
       "day                0\n",
       "hour               0\n",
       "minute             0\n",
       "second             0\n",
       "output             0\n",
       "dtype: int64"
      ]
     },
     "execution_count": 5,
     "metadata": {},
     "output_type": "execute_result"
    }
   ],
   "source": [
    "data.isnull().sum()"
   ]
  },
  {
   "cell_type": "code",
   "execution_count": 39,
   "id": "98452d2e",
   "metadata": {},
   "outputs": [],
   "source": [
    "y=data['output']\n",
    "x=data.drop(['output'],axis=1)"
   ]
  },
  {
   "cell_type": "code",
   "execution_count": 40,
   "id": "49a15fde",
   "metadata": {},
   "outputs": [
    {
     "data": {
      "text/html": [
       "<div>\n",
       "<style scoped>\n",
       "    .dataframe tbody tr th:only-of-type {\n",
       "        vertical-align: middle;\n",
       "    }\n",
       "\n",
       "    .dataframe tbody tr th {\n",
       "        vertical-align: top;\n",
       "    }\n",
       "\n",
       "    .dataframe thead th {\n",
       "        text-align: right;\n",
       "    }\n",
       "</style>\n",
       "<table border=\"1\" class=\"dataframe\">\n",
       "  <thead>\n",
       "    <tr style=\"text-align: right;\">\n",
       "      <th></th>\n",
       "      <th>TP2</th>\n",
       "      <th>TP3</th>\n",
       "      <th>H1</th>\n",
       "      <th>DV_pressure</th>\n",
       "      <th>Reservoirs</th>\n",
       "      <th>Oil_temperature</th>\n",
       "      <th>Flowmeter</th>\n",
       "      <th>Motor_current</th>\n",
       "      <th>COMP</th>\n",
       "      <th>DV_eletric</th>\n",
       "      <th>...</th>\n",
       "      <th>Caudal_impulses</th>\n",
       "      <th>gpsLong</th>\n",
       "      <th>gpsLat</th>\n",
       "      <th>gpsSpeed</th>\n",
       "      <th>gpsQuality</th>\n",
       "      <th>month</th>\n",
       "      <th>day</th>\n",
       "      <th>hour</th>\n",
       "      <th>minute</th>\n",
       "      <th>second</th>\n",
       "    </tr>\n",
       "  </thead>\n",
       "  <tbody>\n",
       "    <tr>\n",
       "      <th>count</th>\n",
       "      <td>410104.000000</td>\n",
       "      <td>410104.000000</td>\n",
       "      <td>410104.000000</td>\n",
       "      <td>410104.000000</td>\n",
       "      <td>410104.000000</td>\n",
       "      <td>410104.000000</td>\n",
       "      <td>410104.000000</td>\n",
       "      <td>410104.000000</td>\n",
       "      <td>410104.000000</td>\n",
       "      <td>410104.000000</td>\n",
       "      <td>...</td>\n",
       "      <td>410104.000000</td>\n",
       "      <td>410104.000000</td>\n",
       "      <td>410104.000000</td>\n",
       "      <td>410104.000000</td>\n",
       "      <td>410104.000000</td>\n",
       "      <td>410104.000000</td>\n",
       "      <td>410104.000000</td>\n",
       "      <td>410104.000000</td>\n",
       "      <td>410104.000000</td>\n",
       "      <td>410104.000000</td>\n",
       "    </tr>\n",
       "    <tr>\n",
       "      <th>mean</th>\n",
       "      <td>0.108661</td>\n",
       "      <td>0.852213</td>\n",
       "      <td>0.727068</td>\n",
       "      <td>0.001295</td>\n",
       "      <td>0.206824</td>\n",
       "      <td>0.596970</td>\n",
       "      <td>0.524974</td>\n",
       "      <td>0.249494</td>\n",
       "      <td>0.855307</td>\n",
       "      <td>0.144700</td>\n",
       "      <td>...</td>\n",
       "      <td>0.082033</td>\n",
       "      <td>0.703269</td>\n",
       "      <td>0.312947</td>\n",
       "      <td>0.012185</td>\n",
       "      <td>0.313547</td>\n",
       "      <td>0.674415</td>\n",
       "      <td>0.534254</td>\n",
       "      <td>0.574860</td>\n",
       "      <td>0.498985</td>\n",
       "      <td>0.499780</td>\n",
       "    </tr>\n",
       "    <tr>\n",
       "      <th>std</th>\n",
       "      <td>0.280040</td>\n",
       "      <td>0.112813</td>\n",
       "      <td>0.302169</td>\n",
       "      <td>0.013039</td>\n",
       "      <td>0.198303</td>\n",
       "      <td>0.092452</td>\n",
       "      <td>0.187077</td>\n",
       "      <td>0.246021</td>\n",
       "      <td>0.351791</td>\n",
       "      <td>0.351798</td>\n",
       "      <td>...</td>\n",
       "      <td>0.274415</td>\n",
       "      <td>0.439060</td>\n",
       "      <td>0.463047</td>\n",
       "      <td>0.040251</td>\n",
       "      <td>0.463935</td>\n",
       "      <td>0.320496</td>\n",
       "      <td>0.401096</td>\n",
       "      <td>0.294183</td>\n",
       "      <td>0.294386</td>\n",
       "      <td>0.293551</td>\n",
       "    </tr>\n",
       "    <tr>\n",
       "      <th>min</th>\n",
       "      <td>0.000000</td>\n",
       "      <td>0.000000</td>\n",
       "      <td>0.000000</td>\n",
       "      <td>0.000000</td>\n",
       "      <td>0.000000</td>\n",
       "      <td>0.000000</td>\n",
       "      <td>0.000000</td>\n",
       "      <td>0.000000</td>\n",
       "      <td>0.000000</td>\n",
       "      <td>0.000000</td>\n",
       "      <td>...</td>\n",
       "      <td>0.000000</td>\n",
       "      <td>0.000000</td>\n",
       "      <td>0.000000</td>\n",
       "      <td>0.000000</td>\n",
       "      <td>0.000000</td>\n",
       "      <td>0.000000</td>\n",
       "      <td>0.000000</td>\n",
       "      <td>0.000000</td>\n",
       "      <td>0.000000</td>\n",
       "      <td>0.000000</td>\n",
       "    </tr>\n",
       "    <tr>\n",
       "      <th>25%</th>\n",
       "      <td>0.001664</td>\n",
       "      <td>0.815001</td>\n",
       "      <td>0.787128</td>\n",
       "      <td>0.000484</td>\n",
       "      <td>0.142096</td>\n",
       "      <td>0.535091</td>\n",
       "      <td>0.528143</td>\n",
       "      <td>0.001662</td>\n",
       "      <td>1.000000</td>\n",
       "      <td>0.000000</td>\n",
       "      <td>...</td>\n",
       "      <td>0.000000</td>\n",
       "      <td>0.057389</td>\n",
       "      <td>0.000000</td>\n",
       "      <td>0.000000</td>\n",
       "      <td>0.000000</td>\n",
       "      <td>0.400000</td>\n",
       "      <td>0.066667</td>\n",
       "      <td>0.347826</td>\n",
       "      <td>0.237288</td>\n",
       "      <td>0.237288</td>\n",
       "    </tr>\n",
       "    <tr>\n",
       "      <th>50%</th>\n",
       "      <td>0.001848</td>\n",
       "      <td>0.861589</td>\n",
       "      <td>0.832085</td>\n",
       "      <td>0.000726</td>\n",
       "      <td>0.142676</td>\n",
       "      <td>0.606542</td>\n",
       "      <td>0.532351</td>\n",
       "      <td>0.409582</td>\n",
       "      <td>1.000000</td>\n",
       "      <td>0.000000</td>\n",
       "      <td>...</td>\n",
       "      <td>0.000000</td>\n",
       "      <td>1.000000</td>\n",
       "      <td>0.000000</td>\n",
       "      <td>0.000000</td>\n",
       "      <td>0.000000</td>\n",
       "      <td>0.800000</td>\n",
       "      <td>0.566667</td>\n",
       "      <td>0.608696</td>\n",
       "      <td>0.491525</td>\n",
       "      <td>0.491525</td>\n",
       "    </tr>\n",
       "    <tr>\n",
       "      <th>75%</th>\n",
       "      <td>0.002033</td>\n",
       "      <td>0.911850</td>\n",
       "      <td>0.880692</td>\n",
       "      <td>0.001452</td>\n",
       "      <td>0.158337</td>\n",
       "      <td>0.650683</td>\n",
       "      <td>0.536560</td>\n",
       "      <td>0.425921</td>\n",
       "      <td>1.000000</td>\n",
       "      <td>0.000000</td>\n",
       "      <td>...</td>\n",
       "      <td>0.000000</td>\n",
       "      <td>1.000000</td>\n",
       "      <td>0.997575</td>\n",
       "      <td>0.000000</td>\n",
       "      <td>1.000000</td>\n",
       "      <td>1.000000</td>\n",
       "      <td>0.966667</td>\n",
       "      <td>0.826087</td>\n",
       "      <td>0.762712</td>\n",
       "      <td>0.745763</td>\n",
       "    </tr>\n",
       "    <tr>\n",
       "      <th>max</th>\n",
       "      <td>1.000000</td>\n",
       "      <td>1.000000</td>\n",
       "      <td>1.000000</td>\n",
       "      <td>1.000000</td>\n",
       "      <td>1.000000</td>\n",
       "      <td>1.000000</td>\n",
       "      <td>1.000000</td>\n",
       "      <td>1.000000</td>\n",
       "      <td>1.000000</td>\n",
       "      <td>1.000000</td>\n",
       "      <td>...</td>\n",
       "      <td>1.000000</td>\n",
       "      <td>1.000000</td>\n",
       "      <td>1.000000</td>\n",
       "      <td>1.000000</td>\n",
       "      <td>1.000000</td>\n",
       "      <td>1.000000</td>\n",
       "      <td>1.000000</td>\n",
       "      <td>1.000000</td>\n",
       "      <td>1.000000</td>\n",
       "      <td>1.000000</td>\n",
       "    </tr>\n",
       "  </tbody>\n",
       "</table>\n",
       "<p>8 rows × 25 columns</p>\n",
       "</div>"
      ],
      "text/plain": [
       "                 TP2            TP3             H1    DV_pressure  \\\n",
       "count  410104.000000  410104.000000  410104.000000  410104.000000   \n",
       "mean        0.108661       0.852213       0.727068       0.001295   \n",
       "std         0.280040       0.112813       0.302169       0.013039   \n",
       "min         0.000000       0.000000       0.000000       0.000000   \n",
       "25%         0.001664       0.815001       0.787128       0.000484   \n",
       "50%         0.001848       0.861589       0.832085       0.000726   \n",
       "75%         0.002033       0.911850       0.880692       0.001452   \n",
       "max         1.000000       1.000000       1.000000       1.000000   \n",
       "\n",
       "          Reservoirs  Oil_temperature      Flowmeter  Motor_current  \\\n",
       "count  410104.000000    410104.000000  410104.000000  410104.000000   \n",
       "mean        0.206824         0.596970       0.524974       0.249494   \n",
       "std         0.198303         0.092452       0.187077       0.246021   \n",
       "min         0.000000         0.000000       0.000000       0.000000   \n",
       "25%         0.142096         0.535091       0.528143       0.001662   \n",
       "50%         0.142676         0.606542       0.532351       0.409582   \n",
       "75%         0.158337         0.650683       0.536560       0.425921   \n",
       "max         1.000000         1.000000       1.000000       1.000000   \n",
       "\n",
       "                COMP     DV_eletric  ...  Caudal_impulses        gpsLong  \\\n",
       "count  410104.000000  410104.000000  ...    410104.000000  410104.000000   \n",
       "mean        0.855307       0.144700  ...         0.082033       0.703269   \n",
       "std         0.351791       0.351798  ...         0.274415       0.439060   \n",
       "min         0.000000       0.000000  ...         0.000000       0.000000   \n",
       "25%         1.000000       0.000000  ...         0.000000       0.057389   \n",
       "50%         1.000000       0.000000  ...         0.000000       1.000000   \n",
       "75%         1.000000       0.000000  ...         0.000000       1.000000   \n",
       "max         1.000000       1.000000  ...         1.000000       1.000000   \n",
       "\n",
       "              gpsLat       gpsSpeed     gpsQuality          month  \\\n",
       "count  410104.000000  410104.000000  410104.000000  410104.000000   \n",
       "mean        0.312947       0.012185       0.313547       0.674415   \n",
       "std         0.463047       0.040251       0.463935       0.320496   \n",
       "min         0.000000       0.000000       0.000000       0.000000   \n",
       "25%         0.000000       0.000000       0.000000       0.400000   \n",
       "50%         0.000000       0.000000       0.000000       0.800000   \n",
       "75%         0.997575       0.000000       1.000000       1.000000   \n",
       "max         1.000000       1.000000       1.000000       1.000000   \n",
       "\n",
       "                 day           hour         minute         second  \n",
       "count  410104.000000  410104.000000  410104.000000  410104.000000  \n",
       "mean        0.534254       0.574860       0.498985       0.499780  \n",
       "std         0.401096       0.294183       0.294386       0.293551  \n",
       "min         0.000000       0.000000       0.000000       0.000000  \n",
       "25%         0.066667       0.347826       0.237288       0.237288  \n",
       "50%         0.566667       0.608696       0.491525       0.491525  \n",
       "75%         0.966667       0.826087       0.762712       0.745763  \n",
       "max         1.000000       1.000000       1.000000       1.000000  \n",
       "\n",
       "[8 rows x 25 columns]"
      ]
     },
     "execution_count": 40,
     "metadata": {},
     "output_type": "execute_result"
    }
   ],
   "source": [
    "for i in x.columns:\n",
    "    x[i]=(x[i]-np.min(x[i]))/(np.max(x[i])-np.min(x[i]))\n",
    "x.describe()"
   ]
  },
  {
   "cell_type": "code",
   "execution_count": 41,
   "id": "f3217d76",
   "metadata": {},
   "outputs": [
    {
     "data": {
      "text/plain": [
       "output\n",
       "3    198000\n",
       "2    195484\n",
       "1     14821\n",
       "0      1799\n",
       "Name: count, dtype: int64"
      ]
     },
     "execution_count": 41,
     "metadata": {},
     "output_type": "execute_result"
    }
   ],
   "source": [
    "y.value_counts()"
   ]
  },
  {
   "cell_type": "code",
   "execution_count": 9,
   "id": "53b86252",
   "metadata": {},
   "outputs": [],
   "source": [
    "from tensorflow.keras.utils import to_categorical\n",
    "y=to_categorical(y,num_classes=4)"
   ]
  },
  {
   "cell_type": "code",
   "execution_count": 10,
   "id": "0007d3bb",
   "metadata": {},
   "outputs": [
    {
     "data": {
      "text/plain": [
       "array([0., 1.], dtype=float32)"
      ]
     },
     "execution_count": 10,
     "metadata": {},
     "output_type": "execute_result"
    }
   ],
   "source": [
    "np.unique(y)"
   ]
  },
  {
   "cell_type": "code",
   "execution_count": 11,
   "id": "b7515489",
   "metadata": {},
   "outputs": [
    {
     "data": {
      "text/plain": [
       "array([[0., 0., 0., 1.],\n",
       "       [0., 0., 0., 1.],\n",
       "       [0., 0., 0., 1.],\n",
       "       ...,\n",
       "       [0., 0., 1., 0.],\n",
       "       [0., 0., 1., 0.],\n",
       "       [0., 0., 1., 0.]], dtype=float32)"
      ]
     },
     "execution_count": 11,
     "metadata": {},
     "output_type": "execute_result"
    }
   ],
   "source": [
    "y"
   ]
  },
  {
   "cell_type": "code",
   "execution_count": 12,
   "id": "cd4bf5f7",
   "metadata": {},
   "outputs": [],
   "source": [
    "from sklearn.model_selection import train_test_split\n",
    "x_train,x_test,y_train,y_test=train_test_split(x,y,stratify=y,test_size=.2)"
   ]
  },
  {
   "cell_type": "code",
   "execution_count": 13,
   "id": "d2867a80",
   "metadata": {},
   "outputs": [
    {
     "data": {
      "text/plain": [
       "(82021, 25)"
      ]
     },
     "execution_count": 13,
     "metadata": {},
     "output_type": "execute_result"
    }
   ],
   "source": [
    "x_test.shape"
   ]
  },
  {
   "cell_type": "code",
   "execution_count": 14,
   "id": "937ac2be",
   "metadata": {},
   "outputs": [
    {
     "name": "stdout",
     "output_type": "stream",
     "text": [
      "Model: \"sequential\"\n",
      "_________________________________________________________________\n",
      " Layer (type)                Output Shape              Param #   \n",
      "=================================================================\n",
      " dense (Dense)               (None, 4)                 104       \n",
      "                                                                 \n",
      " dense_1 (Dense)             (None, 4)                 20        \n",
      "                                                                 \n",
      "=================================================================\n",
      "Total params: 124\n",
      "Trainable params: 124\n",
      "Non-trainable params: 0\n",
      "_________________________________________________________________\n"
     ]
    }
   ],
   "source": [
    "model=Sequential()\n",
    "model.add(Dense(4,input_shape=([25]),activation='relu'))\n",
    "model.add(Dense(4,activation='softmax'))\n",
    "model.summary()"
   ]
  },
  {
   "cell_type": "code",
   "execution_count": 15,
   "id": "4faca69c",
   "metadata": {},
   "outputs": [],
   "source": [
    "model.compile('adam','categorical_crossentropy',metrics=['categorical_accuracy','Precision','Recall','AUC'])"
   ]
  },
  {
   "cell_type": "code",
   "execution_count": 16,
   "id": "3a91346f",
   "metadata": {},
   "outputs": [
    {
     "name": "stdout",
     "output_type": "stream",
     "text": [
      "Epoch 1/5\n",
      "10253/10253 [==============================] - 26s 2ms/step - loss: 0.2537 - categorical_accuracy: 0.9103 - precision: 0.9164 - recall: 0.9015 - auc: 0.9889 - val_loss: 0.1367 - val_categorical_accuracy: 0.9617 - val_precision: 0.9621 - val_recall: 0.9612 - val_auc: 0.9956\n",
      "Epoch 2/5\n",
      "10253/10253 [==============================] - 26s 3ms/step - loss: 0.1183 - categorical_accuracy: 0.9668 - precision: 0.9673 - recall: 0.9663 - auc: 0.9966 - val_loss: 0.1043 - val_categorical_accuracy: 0.9699 - val_precision: 0.9702 - val_recall: 0.9696 - val_auc: 0.9972\n",
      "Epoch 3/5\n",
      "10253/10253 [==============================] - 27s 3ms/step - loss: 0.0982 - categorical_accuracy: 0.9710 - precision: 0.9714 - recall: 0.9705 - auc: 0.9975 - val_loss: 0.0923 - val_categorical_accuracy: 0.9736 - val_precision: 0.9739 - val_recall: 0.9733 - val_auc: 0.9977\n",
      "Epoch 4/5\n",
      "10253/10253 [==============================] - 27s 3ms/step - loss: 0.0871 - categorical_accuracy: 0.9741 - precision: 0.9745 - recall: 0.9737 - auc: 0.9980 - val_loss: 0.0841 - val_categorical_accuracy: 0.9733 - val_precision: 0.9734 - val_recall: 0.9730 - val_auc: 0.9981\n",
      "Epoch 5/5\n",
      "10253/10253 [==============================] - 25s 2ms/step - loss: 0.0781 - categorical_accuracy: 0.9770 - precision: 0.9772 - recall: 0.9767 - auc: 0.9982 - val_loss: 0.0711 - val_categorical_accuracy: 0.9789 - val_precision: 0.9790 - val_recall: 0.9787 - val_auc: 0.9983\n"
     ]
    }
   ],
   "source": [
    "history=model.fit(x_train,y_train,epochs=5,batch_size=32,validation_data=(x_test,y_test))"
   ]
  },
  {
   "cell_type": "code",
   "execution_count": 17,
   "id": "ce352062",
   "metadata": {},
   "outputs": [
    {
     "name": "stdout",
     "output_type": "stream",
     "text": [
      "10253/10253 [==============================] - 20s 2ms/step - loss: 0.0697 - categorical_accuracy: 0.9792 - precision: 0.9793 - recall: 0.9790 - auc: 0.9984\n"
     ]
    },
    {
     "data": {
      "text/plain": [
       "[0.06969010084867477,\n",
       " 0.979154646396637,\n",
       " 0.9793063998222351,\n",
       " 0.9789870381355286,\n",
       " 0.9983869791030884]"
      ]
     },
     "execution_count": 17,
     "metadata": {},
     "output_type": "execute_result"
    }
   ],
   "source": [
    "model.evaluate(x_train,y_train)"
   ]
  },
  {
   "cell_type": "code",
   "execution_count": 18,
   "id": "9aa98fd4",
   "metadata": {},
   "outputs": [
    {
     "name": "stdout",
     "output_type": "stream",
     "text": [
      "2564/2564 [==============================] - 3s 1ms/step - loss: 0.0711 - categorical_accuracy: 0.9789 - precision: 0.9790 - recall: 0.9787 - auc: 0.9983\n"
     ]
    },
    {
     "data": {
      "text/plain": [
       "[0.07111015170812607,\n",
       " 0.9788590669631958,\n",
       " 0.9789504408836365,\n",
       " 0.978663980960846,\n",
       " 0.9982846975326538]"
      ]
     },
     "execution_count": 18,
     "metadata": {},
     "output_type": "execute_result"
    }
   ],
   "source": [
    "model.evaluate(x_test,y_test)"
   ]
  },
  {
   "cell_type": "code",
   "execution_count": 19,
   "id": "ca21b118",
   "metadata": {},
   "outputs": [
    {
     "name": "stdout",
     "output_type": "stream",
     "text": [
      "2564/2564 [==============================] - 2s 873us/step\n",
      "Axes(0.125,0.125;0.62x0.755)\n"
     ]
    },
    {
     "data": {
      "image/png": "[encoded data removed]",
      "text/plain": [
       "<Figure size 432x288 with 2 Axes>"
      ]
     },
     "metadata": {
      "needs_background": "light"
     },
     "output_type": "display_data"
    }
   ],
   "source": [
    "from sklearn.metrics import confusion_matrix, classification_report\n",
    "import seaborn as sns\n",
    "o=model.predict(x_test)\n",
    "ou=np.argmax(o,axis=1)\n",
    "i=np.argmax(y_test,axis=1)\n",
    "print(sns.heatmap(confusion_matrix(ou,i),annot=True))"
   ]
  },
  {
   "cell_type": "code",
   "execution_count": 20,
   "id": "9906e54b",
   "metadata": {},
   "outputs": [
    {
     "name": "stdout",
     "output_type": "stream",
     "text": [
      "              precision    recall  f1-score   support\n",
      "\n",
      "           0       0.00      0.00      0.00        29\n",
      "           1       0.96      0.96      0.96      2974\n",
      "           2       1.00      0.97      0.99     40212\n",
      "           3       0.97      0.99      0.98     38806\n",
      "\n",
      "    accuracy                           0.98     82021\n",
      "   macro avg       0.73      0.73      0.73     82021\n",
      "weighted avg       0.98      0.98      0.98     82021\n",
      "\n"
     ]
    }
   ],
   "source": [
    "print(classification_report(ou,i))"
   ]
  },
  {
   "cell_type": "code",
   "execution_count": 21,
   "id": "af742655",
   "metadata": {},
   "outputs": [
    {
     "name": "stdout",
     "output_type": "stream",
     "text": [
      "TP2               -0.085389\n",
      "TP3                0.308661\n",
      "H1                 0.213090\n",
      "DV_pressure        0.030267\n",
      "Reservoirs         0.291573\n",
      "Oil_temperature   -0.245255\n",
      "Flowmeter         -0.301354\n",
      "Motor_current     -0.031444\n",
      "COMP               0.190714\n",
      "DV_eletric        -0.190714\n",
      "Towers             0.130306\n",
      "MPG                0.190718\n",
      "LPS               -0.380579\n",
      "Pressure_switch    0.284434\n",
      "Oil_level          0.284551\n",
      "Caudal_impulses    0.282527\n",
      "gpsLong           -0.327834\n",
      "gpsLat             0.328565\n",
      "gpsSpeed           0.261477\n",
      "gpsQuality         0.328694\n",
      "month             -0.362081\n",
      "day               -0.088577\n",
      "hour              -0.020455\n",
      "minute             0.008450\n",
      "second            -0.000725\n",
      "output             1.000000\n",
      "Name: output, dtype: float64\n"
     ]
    }
   ],
   "source": [
    "corr=data.corr()\n",
    "print(corr['output'])"
   ]
  },
  {
   "cell_type": "code",
   "execution_count": 22,
   "id": "b71e935b",
   "metadata": {},
   "outputs": [
    {
     "name": "stdout",
     "output_type": "stream",
     "text": [
      "Requirement already satisfied: imblearn in c:\\users\\sairam\\anaconda3\\lib\\site-packages (0.0)\n",
      "Requirement already satisfied: imbalanced-learn in c:\\users\\sairam\\anaconda3\\lib\\site-packages (from imblearn) (0.9.1)\n",
      "Requirement already satisfied: joblib>=1.0.0 in c:\\users\\sairam\\anaconda3\\lib\\site-packages (from imbalanced-learn->imblearn) (1.0.1)\n",
      "Requirement already satisfied: scipy>=1.3.2 in c:\\users\\sairam\\anaconda3\\lib\\site-packages (from imbalanced-learn->imblearn) (1.10.1)\n",
      "Requirement already satisfied: scikit-learn>=1.1.0 in c:\\users\\sairam\\anaconda3\\lib\\site-packages (from imbalanced-learn->imblearn) (1.1.2)\n",
      "Requirement already satisfied: threadpoolctl>=2.0.0 in c:\\users\\sairam\\anaconda3\\lib\\site-packages (from imbalanced-learn->imblearn) (3.1.0)\n",
      "Requirement already satisfied: numpy>=1.17.3 in c:\\users\\sairam\\anaconda3\\lib\\site-packages (from imbalanced-learn->imblearn) (1.21.0)\n",
      "\n",
      "[notice] A new release of pip available: 22.1.2 -> 23.2.1\n",
      "[notice] To update, run: python.exe -m pip install --upgrade pip\n"
     ]
    },
    {
     "name": "stderr",
     "output_type": "stream",
     "text": [
      "WARNING: Ignoring invalid distribution -pencv-python (c:\\users\\sairam\\anaconda3\\lib\\site-packages)\n",
      "WARNING: Ignoring invalid distribution -atplotlib (c:\\users\\sairam\\anaconda3\\lib\\site-packages)\n",
      "WARNING: Ignoring invalid distribution -pencv-python (c:\\users\\sairam\\anaconda3\\lib\\site-packages)\n",
      "WARNING: Ignoring invalid distribution -atplotlib (c:\\users\\sairam\\anaconda3\\lib\\site-packages)\n",
      "WARNING: Ignoring invalid distribution -pencv-python (c:\\users\\sairam\\anaconda3\\lib\\site-packages)\n",
      "WARNING: Ignoring invalid distribution -atplotlib (c:\\users\\sairam\\anaconda3\\lib\\site-packages)\n",
      "WARNING: Ignoring invalid distribution -pencv-python (c:\\users\\sairam\\anaconda3\\lib\\site-packages)\n",
      "WARNING: Ignoring invalid distribution -atplotlib (c:\\users\\sairam\\anaconda3\\lib\\site-packages)\n",
      "WARNING: Ignoring invalid distribution -pencv-python (c:\\users\\sairam\\anaconda3\\lib\\site-packages)\n",
      "WARNING: Ignoring invalid distribution -atplotlib (c:\\users\\sairam\\anaconda3\\lib\\site-packages)\n",
      "WARNING: Ignoring invalid distribution -pencv-python (c:\\users\\sairam\\anaconda3\\lib\\site-packages)\n",
      "WARNING: Ignoring invalid distribution -atplotlib (c:\\users\\sairam\\anaconda3\\lib\\site-packages)\n"
     ]
    }
   ],
   "source": [
    "!pip install imblearn"
   ]
  },
  {
   "cell_type": "code",
   "execution_count": 23,
   "id": "a92fc52a",
   "metadata": {},
   "outputs": [
    {
     "data": {
      "text/plain": [
       "output\n",
       "3    198000\n",
       "2    195484\n",
       "1     14821\n",
       "0      1799\n",
       "Name: count, dtype: int64"
      ]
     },
     "execution_count": 23,
     "metadata": {},
     "output_type": "execute_result"
    }
   ],
   "source": [
    "data['output'].value_counts()"
   ]
  },
  {
   "cell_type": "code",
   "execution_count": 42,
   "id": "0432608e",
   "metadata": {},
   "outputs": [
    {
     "name": "stderr",
     "output_type": "stream",
     "text": [
      "Pass sampling_strategy={3: 198000} as keyword args. From version 0.9 passing these as positional arguments will result in an error\n"
     ]
    }
   ],
   "source": [
    "from imblearn.over_sampling import SMOTE\n",
    "from imblearn.under_sampling import RandomUnderSampler\n",
    "over=SMOTE(sampling_strategy={0:198000, 1:198000,2:198000})\n",
    "under = RandomUnderSampler({3:198000})\n",
    "from imblearn.pipeline import Pipeline\n",
    "pipeline = Pipeline([('o', over), ('u', under)])\n",
    "x_n,y=pipeline.fit_resample(x,y)"
   ]
  },
  {
   "cell_type": "code",
   "execution_count": 43,
   "id": "f298f090",
   "metadata": {},
   "outputs": [],
   "source": [
    "from tensorflow.keras.utils import to_categorical\n",
    "y=to_categorical(y,num_classes=4)"
   ]
  },
  {
   "cell_type": "code",
   "execution_count": 44,
   "id": "aa10394f",
   "metadata": {},
   "outputs": [],
   "source": [
    "from sklearn.model_selection import train_test_split\n",
    "x_train1,x_test1,y_train1,y_test1=train_test_split(x_n,y,stratify=y,test_size=.2)"
   ]
  },
  {
   "cell_type": "code",
   "execution_count": 45,
   "id": "369ddae8",
   "metadata": {},
   "outputs": [
    {
     "name": "stdout",
     "output_type": "stream",
     "text": [
      "Model: \"sequential_2\"\n",
      "_________________________________________________________________\n",
      " Layer (type)                Output Shape              Param #   \n",
      "=================================================================\n",
      " dense_5 (Dense)             (None, 4)                 104       \n",
      "                                                                 \n",
      " dense_6 (Dense)             (None, 4)                 20        \n",
      "                                                                 \n",
      " dense_7 (Dense)             (None, 4)                 20        \n",
      "                                                                 \n",
      "=================================================================\n",
      "Total params: 144\n",
      "Trainable params: 144\n",
      "Non-trainable params: 0\n",
      "_________________________________________________________________\n"
     ]
    }
   ],
   "source": [
    "model1=Sequential()\n",
    "model1.add(Dense(4,input_shape=([25]),activation='relu'))\n",
    "model1.add(Dense(4,activation='relu'))\n",
    "model1.add(Dense(4,activation='softmax'))\n",
    "model1.summary()"
   ]
  },
  {
   "cell_type": "code",
   "execution_count": 46,
   "id": "4317938a",
   "metadata": {},
   "outputs": [],
   "source": [
    "model1.compile('adam','categorical_crossentropy',metrics=['categorical_accuracy','Precision','Recall','AUC'])"
   ]
  },
  {
   "cell_type": "code",
   "execution_count": 47,
   "id": "a38dfb5c",
   "metadata": {},
   "outputs": [
    {
     "name": "stdout",
     "output_type": "stream",
     "text": [
      "Epoch 1/5\n",
      "19800/19800 [==============================] - 53s 3ms/step - loss: 0.2001 - categorical_accuracy: 0.9336 - precision: 0.9549 - recall: 0.9148 - auc: 0.9929 - val_loss: 0.0638 - val_categorical_accuracy: 0.9835 - val_precision: 0.9835 - val_recall: 0.9835 - val_auc: 0.9980\n",
      "Epoch 2/5\n",
      "19800/19800 [==============================] - 57s 3ms/step - loss: 0.0583 - categorical_accuracy: 0.9857 - precision: 0.9857 - recall: 0.9857 - auc: 0.9980 - val_loss: 0.0547 - val_categorical_accuracy: 0.9852 - val_precision: 0.9852 - val_recall: 0.9852 - val_auc: 0.9981\n",
      "Epoch 3/5\n",
      "19800/19800 [==============================] - 56s 3ms/step - loss: 0.0492 - categorical_accuracy: 0.9883 - precision: 0.9883 - recall: 0.9883 - auc: 0.9982 - val_loss: 0.0462 - val_categorical_accuracy: 0.9880 - val_precision: 0.9881 - val_recall: 0.9880 - val_auc: 0.9984\n",
      "Epoch 4/5\n",
      "19800/19800 [==============================] - 55s 3ms/step - loss: 0.0452 - categorical_accuracy: 0.9894 - precision: 0.9894 - recall: 0.9894 - auc: 0.9984 - val_loss: 0.0409 - val_categorical_accuracy: 0.9898 - val_precision: 0.9898 - val_recall: 0.9898 - val_auc: 0.9988\n",
      "Epoch 5/5\n",
      "19800/19800 [==============================] - 49s 2ms/step - loss: 0.0426 - categorical_accuracy: 0.9901 - precision: 0.9901 - recall: 0.9901 - auc: 0.9986 - val_loss: 0.0419 - val_categorical_accuracy: 0.9896 - val_precision: 0.9896 - val_recall: 0.9896 - val_auc: 0.9986\n"
     ]
    }
   ],
   "source": [
    "history1=model1.fit(x_train1,y_train1,epochs=5,batch_size=32,validation_data=(x_test1,y_test1))"
   ]
  },
  {
   "cell_type": "code",
   "execution_count": 48,
   "id": "2c42517c",
   "metadata": {},
   "outputs": [
    {
     "name": "stdout",
     "output_type": "stream",
     "text": [
      "19800/19800 [==============================] - 39s 2ms/step - loss: 0.0414 - categorical_accuracy: 0.9895 - precision: 0.9895 - recall: 0.9895 - auc: 0.9987\n"
     ]
    },
    {
     "data": {
      "text/plain": [
       "[0.041422344744205475,\n",
       " 0.9895060062408447,\n",
       " 0.9895183444023132,\n",
       " 0.9894933700561523,\n",
       " 0.9986836910247803]"
      ]
     },
     "execution_count": 48,
     "metadata": {},
     "output_type": "execute_result"
    }
   ],
   "source": [
    "model1.evaluate(x_train1,y_train1)"
   ]
  },
  {
   "cell_type": "code",
   "execution_count": 49,
   "id": "86201d41",
   "metadata": {},
   "outputs": [
    {
     "name": "stdout",
     "output_type": "stream",
     "text": [
      "4950/4950 [==============================] - 9s 2ms/step - loss: 0.0419 - categorical_accuracy: 0.9896 - precision: 0.9896 - recall: 0.9896 - auc: 0.9986\n"
     ]
    },
    {
     "data": {
      "text/plain": [
       "[0.041929516941308975,\n",
       " 0.9896275401115417,\n",
       " 0.989627480506897,\n",
       " 0.9896212220191956,\n",
       " 0.9986030459403992]"
      ]
     },
     "execution_count": 49,
     "metadata": {},
     "output_type": "execute_result"
    }
   ],
   "source": [
    "model1.evaluate(x_test1,y_test1)"
   ]
  },
  {
   "cell_type": "code",
   "execution_count": 50,
   "id": "bc6aa6fb",
   "metadata": {},
   "outputs": [
    {
     "name": "stdout",
     "output_type": "stream",
     "text": [
      "4950/4950 [==============================] - 4s 851us/step\n",
      "Axes(0.125,0.125;0.62x0.755)\n"
     ]
    },
    {
     "data": {
      "image/png": "[encoded data removed]",
      "text/plain": [
       "<Figure size 432x288 with 2 Axes>"
      ]
     },
     "metadata": {
      "needs_background": "light"
     },
     "output_type": "display_data"
    }
   ],
   "source": [
    "from sklearn.metrics import confusion_matrix, classification_report\n",
    "import seaborn as sns\n",
    "o1=model1.predict(x_test1)\n",
    "ou1=np.argmax(o1,axis=1)\n",
    "i1=np.argmax(y_test1,axis=1)\n",
    "print(sns.heatmap(confusion_matrix(ou1,i1),annot=True))"
   ]
  },
  {
   "cell_type": "code",
   "execution_count": 51,
   "id": "58e8a006",
   "metadata": {},
   "outputs": [
    {
     "name": "stdout",
     "output_type": "stream",
     "text": [
      "              precision    recall  f1-score   support\n",
      "\n",
      "           0       1.00      0.98      0.99     40426\n",
      "           1       1.00      1.00      1.00     39772\n",
      "           2       1.00      0.98      0.99     40241\n",
      "           3       0.96      1.00      0.98     37961\n",
      "\n",
      "    accuracy                           0.99    158400\n",
      "   macro avg       0.99      0.99      0.99    158400\n",
      "weighted avg       0.99      0.99      0.99    158400\n",
      "\n"
     ]
    }
   ],
   "source": [
    "print(classification_report(ou1,i1))"
   ]
  },
  {
   "cell_type": "code",
   "execution_count": 52,
   "id": "dab91ef5",
   "metadata": {},
   "outputs": [
    {
     "data": {
      "image/png": "[encoded data removed]",
      "text/plain": [
       "<Figure size 360x360 with 1 Axes>"
      ]
     },
     "metadata": {
      "needs_background": "light"
     },
     "output_type": "display_data"
    }
   ],
   "source": [
    "import matplotlib.pyplot as plt\n",
    "plt.figure(figsize=(5,5))\n",
    "plt.title(\"Loss plot\")\n",
    "plt.plot(history.history[\"loss\"], label=\"training loss\")\n",
    "plt.plot(history.history[\"val_loss\"], label=\"validation loss\")\n",
    "plt.plot(np.argmin(history.history[\"val_loss\"]), np.min(history.history[\"val_loss\"]), marker=\"x\", color=\"r\", label=\"best model\")\n",
    "plt.xlabel(\"Epochs\")\n",
    "plt.ylabel(\"value (log scale)\")\n",
    "plt.legend();"
   ]
  },
  {
   "cell_type": "code",
   "execution_count": 53,
   "id": "73c22f26",
   "metadata": {},
   "outputs": [
    {
     "data": {
      "image/png": "[encoded data removed]",
      "text/plain": [
       "<Figure size 360x360 with 1 Axes>"
      ]
     },
     "metadata": {
      "needs_background": "light"
     },
     "output_type": "display_data"
    }
   ],
   "source": [
    "import matplotlib.pyplot as plt\n",
    "plt.figure(figsize=(5,5))\n",
    "plt.title(\"Recall plot\")\n",
    "plt.plot(history.history[\"recall\"], label=\"training recall\")\n",
    "plt.plot(history.history[\"val_recall\"], label=\"validation recall\")\n",
    "plt.plot( np.argmax(history.history[\"val_recall\"]), np.max(history.history[\"val_recall\"]), marker=\"x\", color=\"r\", label=\"best model\")\n",
    "plt.xlabel(\"Epochs\")\n",
    "plt.ylabel(\"value (log scale)\")\n",
    "plt.legend();"
   ]
  },
  {
   "cell_type": "code",
   "execution_count": 54,
   "id": "fc1652e3",
   "metadata": {},
   "outputs": [
    {
     "name": "stdout",
     "output_type": "stream",
     "text": [
      "Requirement already satisfied: lime in c:\\users\\sairam\\anaconda3\\lib\\site-packages (0.2.0.1)\n",
      "Requirement already satisfied: numpy in c:\\users\\sairam\\anaconda3\\lib\\site-packages (from lime) (1.21.0)\n",
      "Requirement already satisfied: matplotlib in c:\\users\\sairam\\anaconda3\\lib\\site-packages (from lime) (3.7.2)\n",
      "Requirement already satisfied: scipy in c:\\users\\sairam\\anaconda3\\lib\\site-packages (from lime) (1.10.1)\n",
      "Requirement already satisfied: scikit-learn>=0.18 in c:\\users\\sairam\\anaconda3\\lib\\site-packages (from lime) (1.1.2)\n",
      "Requirement already satisfied: scikit-image>=0.12 in c:\\users\\sairam\\anaconda3\\lib\\site-packages (from lime) (0.18.1)\n",
      "Requirement already satisfied: tqdm in c:\\users\\sairam\\anaconda3\\lib\\site-packages (from lime) (4.59.0)\n",
      "Requirement already satisfied: networkx>=2.0 in c:\\users\\sairam\\anaconda3\\lib\\site-packages (from scikit-image>=0.12->lime) (2.5)\n",
      "Requirement already satisfied: pillow!=7.1.0,!=7.1.1,>=4.3.0 in c:\\users\\sairam\\anaconda3\\lib\\site-packages (from scikit-image>=0.12->lime) (8.2.0)\n",
      "Requirement already satisfied: imageio>=2.3.0 in c:\\users\\sairam\\anaconda3\\lib\\site-packages (from scikit-image>=0.12->lime) (2.9.0)\n",
      "Requirement already satisfied: tifffile>=2019.7.26 in c:\\users\\sairam\\anaconda3\\lib\\site-packages (from scikit-image>=0.12->lime) (2021.4.8)\n",
      "Requirement already satisfied: PyWavelets>=1.1.1 in c:\\users\\sairam\\anaconda3\\lib\\site-packages (from scikit-image>=0.12->lime) (1.1.1)\n",
      "Requirement already satisfied: packaging>=20.0 in c:\\users\\sairam\\anaconda3\\lib\\site-packages (from matplotlib->lime) (23.1)\n",
      "Requirement already satisfied: pyparsing<3.1,>=2.3.1 in c:\\users\\sairam\\anaconda3\\lib\\site-packages (from matplotlib->lime) (2.4.7)\n",
      "Requirement already satisfied: importlib-resources>=3.2.0 in c:\\users\\sairam\\anaconda3\\lib\\site-packages (from matplotlib->lime) (6.0.1)\n",
      "Requirement already satisfied: contourpy>=1.0.1 in c:\\users\\sairam\\anaconda3\\lib\\site-packages (from matplotlib->lime) (1.1.0)\n",
      "Requirement already satisfied: python-dateutil>=2.7 in c:\\users\\sairam\\anaconda3\\lib\\site-packages (from matplotlib->lime) (2.8.2)\n",
      "Requirement already satisfied: kiwisolver>=1.0.1 in c:\\users\\sairam\\anaconda3\\lib\\site-packages (from matplotlib->lime) (1.3.1)\n",
      "Requirement already satisfied: cycler>=0.10 in c:\\users\\sairam\\anaconda3\\lib\\site-packages (from matplotlib->lime) (0.10.0)\n",
      "Requirement already satisfied: fonttools>=4.22.0 in c:\\users\\sairam\\anaconda3\\lib\\site-packages (from matplotlib->lime) (4.42.1)\n",
      "Requirement already satisfied: threadpoolctl>=2.0.0 in c:\\users\\sairam\\anaconda3\\lib\\site-packages (from scikit-learn>=0.18->lime) (3.1.0)\n",
      "Requirement already satisfied: joblib>=1.0.0 in c:\\users\\sairam\\anaconda3\\lib\\site-packages (from scikit-learn>=0.18->lime) (1.0.1)\n",
      "Requirement already satisfied: six in c:\\users\\sairam\\anaconda3\\lib\\site-packages (from cycler>=0.10->matplotlib->lime) (1.15.0)\n",
      "Requirement already satisfied: zipp>=3.1.0 in c:\\users\\sairam\\anaconda3\\lib\\site-packages (from importlib-resources>=3.2.0->matplotlib->lime) (3.4.1)\n",
      "Requirement already satisfied: decorator>=4.3.0 in c:\\users\\sairam\\anaconda3\\lib\\site-packages (from networkx>=2.0->scikit-image>=0.12->lime) (5.0.6)\n",
      "\n",
      "[notice] A new release of pip available: 22.1.2 -> 23.2.1\n",
      "[notice] To update, run: python.exe -m pip install --upgrade pip\n"
     ]
    },
    {
     "name": "stderr",
     "output_type": "stream",
     "text": [
      "WARNING: Ignoring invalid distribution -pencv-python (c:\\users\\sairam\\anaconda3\\lib\\site-packages)\n",
      "WARNING: Ignoring invalid distribution -atplotlib (c:\\users\\sairam\\anaconda3\\lib\\site-packages)\n",
      "WARNING: Ignoring invalid distribution -pencv-python (c:\\users\\sairam\\anaconda3\\lib\\site-packages)\n",
      "WARNING: Ignoring invalid distribution -atplotlib (c:\\users\\sairam\\anaconda3\\lib\\site-packages)\n",
      "WARNING: Ignoring invalid distribution -pencv-python (c:\\users\\sairam\\anaconda3\\lib\\site-packages)\n",
      "WARNING: Ignoring invalid distribution -atplotlib (c:\\users\\sairam\\anaconda3\\lib\\site-packages)\n",
      "WARNING: Ignoring invalid distribution -pencv-python (c:\\users\\sairam\\anaconda3\\lib\\site-packages)\n",
      "WARNING: Ignoring invalid distribution -atplotlib (c:\\users\\sairam\\anaconda3\\lib\\site-packages)\n",
      "WARNING: Ignoring invalid distribution -pencv-python (c:\\users\\sairam\\anaconda3\\lib\\site-packages)\n",
      "WARNING: Ignoring invalid distribution -atplotlib (c:\\users\\sairam\\anaconda3\\lib\\site-packages)\n",
      "WARNING: Ignoring invalid distribution -pencv-python (c:\\users\\sairam\\anaconda3\\lib\\site-packages)\n",
      "WARNING: Ignoring invalid distribution -atplotlib (c:\\users\\sairam\\anaconda3\\lib\\site-packages)\n"
     ]
    }
   ],
   "source": [
    "!pip install lime"
   ]
  },
  {
   "cell_type": "code",
   "execution_count": 59,
   "id": "338a2577",
   "metadata": {
    "scrolled": true
   },
   "outputs": [
    {
     "ename": "InvalidIndexError",
     "evalue": "(slice(None, None, None), 0)",
     "output_type": "error",
     "traceback": [
      "\u001b[1;31m---------------------------------------------------------------------------\u001b[0m",
      "\u001b[1;31mTypeError\u001b[0m                                 Traceback (most recent call last)",
      "\u001b[1;32m~\\anaconda3\\lib\\site-packages\\pandas\\core\\indexes\\base.py\u001b[0m in \u001b[0;36mget_loc\u001b[1;34m(self, key)\u001b[0m\n\u001b[0;32m   3652\u001b[0m         \u001b[1;32mtry\u001b[0m\u001b[1;33m:\u001b[0m\u001b[1;33m\u001b[0m\u001b[1;33m\u001b[0m\u001b[0m\n\u001b[1;32m-> 3653\u001b[1;33m             \u001b[1;32mreturn\u001b[0m \u001b[0mself\u001b[0m\u001b[1;33m.\u001b[0m\u001b[0m_engine\u001b[0m\u001b[1;33m.\u001b[0m\u001b[0mget_loc\u001b[0m\u001b[1;33m(\u001b[0m\u001b[0mcasted_key\u001b[0m\u001b[1;33m)\u001b[0m\u001b[1;33m\u001b[0m\u001b[1;33m\u001b[0m\u001b[0m\n\u001b[0m\u001b[0;32m   3654\u001b[0m         \u001b[1;32mexcept\u001b[0m \u001b[0mKeyError\u001b[0m \u001b[1;32mas\u001b[0m \u001b[0merr\u001b[0m\u001b[1;33m:\u001b[0m\u001b[1;33m\u001b[0m\u001b[1;33m\u001b[0m\u001b[0m\n",
      "\u001b[1;32m~\\anaconda3\\lib\\site-packages\\pandas\\_libs\\index.pyx\u001b[0m in \u001b[0;36mpandas._libs.index.IndexEngine.get_loc\u001b[1;34m()\u001b[0m\n",
      "\u001b[1;32m~\\anaconda3\\lib\\site-packages\\pandas\\_libs\\index.pyx\u001b[0m in \u001b[0;36mpandas._libs.index.IndexEngine.get_loc\u001b[1;34m()\u001b[0m\n",
      "\u001b[1;31mTypeError\u001b[0m: '(slice(None, None, None), 0)' is an invalid key",
      "\nDuring handling of the above exception, another exception occurred:\n",
      "\u001b[1;31mInvalidIndexError\u001b[0m                         Traceback (most recent call last)",
      "\u001b[1;32m<ipython-input-59-e2e406115e06>\u001b[0m in \u001b[0;36m<module>\u001b[1;34m\u001b[0m\n\u001b[0;32m      1\u001b[0m \u001b[1;32mfrom\u001b[0m \u001b[0mlime\u001b[0m \u001b[1;32mimport\u001b[0m \u001b[0mlime_tabular\u001b[0m\u001b[1;33m\u001b[0m\u001b[1;33m\u001b[0m\u001b[0m\n\u001b[1;32m----> 2\u001b[1;33m \u001b[0mlime_tabular\u001b[0m\u001b[1;33m.\u001b[0m\u001b[0mLimeTabularExplainer\u001b[0m\u001b[1;33m(\u001b[0m\u001b[0mdata\u001b[0m\u001b[1;33m,\u001b[0m \u001b[0mmode\u001b[0m\u001b[1;33m=\u001b[0m\u001b[1;34m'classification'\u001b[0m\u001b[1;33m)\u001b[0m\u001b[1;33m\u001b[0m\u001b[1;33m\u001b[0m\u001b[0m\n\u001b[0m",
      "\u001b[1;32m~\\anaconda3\\lib\\site-packages\\lime\\lime_tabular.py\u001b[0m in \u001b[0;36m__init__\u001b[1;34m(self, training_data, mode, training_labels, feature_names, categorical_features, categorical_names, kernel_width, kernel, verbose, class_names, feature_selection, discretize_continuous, discretizer, sample_around_instance, random_state, training_data_stats)\u001b[0m\n\u001b[0;32m    213\u001b[0m \u001b[1;33m\u001b[0m\u001b[0m\n\u001b[0;32m    214\u001b[0m             \u001b[1;32mif\u001b[0m \u001b[0mdiscretizer\u001b[0m \u001b[1;33m==\u001b[0m \u001b[1;34m'quartile'\u001b[0m\u001b[1;33m:\u001b[0m\u001b[1;33m\u001b[0m\u001b[1;33m\u001b[0m\u001b[0m\n\u001b[1;32m--> 215\u001b[1;33m                 self.discretizer = QuartileDiscretizer(\n\u001b[0m\u001b[0;32m    216\u001b[0m                         \u001b[0mtraining_data\u001b[0m\u001b[1;33m,\u001b[0m \u001b[0mself\u001b[0m\u001b[1;33m.\u001b[0m\u001b[0mcategorical_features\u001b[0m\u001b[1;33m,\u001b[0m\u001b[1;33m\u001b[0m\u001b[1;33m\u001b[0m\u001b[0m\n\u001b[0;32m    217\u001b[0m                         \u001b[0mself\u001b[0m\u001b[1;33m.\u001b[0m\u001b[0mfeature_names\u001b[0m\u001b[1;33m,\u001b[0m \u001b[0mlabels\u001b[0m\u001b[1;33m=\u001b[0m\u001b[0mtraining_labels\u001b[0m\u001b[1;33m,\u001b[0m\u001b[1;33m\u001b[0m\u001b[1;33m\u001b[0m\u001b[0m\n",
      "\u001b[1;32m~\\anaconda3\\lib\\site-packages\\lime\\discretize.py\u001b[0m in \u001b[0;36m__init__\u001b[1;34m(self, data, categorical_features, feature_names, labels, random_state)\u001b[0m\n\u001b[0;32m    176\u001b[0m     \u001b[1;32mdef\u001b[0m \u001b[0m__init__\u001b[0m\u001b[1;33m(\u001b[0m\u001b[0mself\u001b[0m\u001b[1;33m,\u001b[0m \u001b[0mdata\u001b[0m\u001b[1;33m,\u001b[0m \u001b[0mcategorical_features\u001b[0m\u001b[1;33m,\u001b[0m \u001b[0mfeature_names\u001b[0m\u001b[1;33m,\u001b[0m \u001b[0mlabels\u001b[0m\u001b[1;33m=\u001b[0m\u001b[1;32mNone\u001b[0m\u001b[1;33m,\u001b[0m \u001b[0mrandom_state\u001b[0m\u001b[1;33m=\u001b[0m\u001b[1;32mNone\u001b[0m\u001b[1;33m)\u001b[0m\u001b[1;33m:\u001b[0m\u001b[1;33m\u001b[0m\u001b[1;33m\u001b[0m\u001b[0m\n\u001b[0;32m    177\u001b[0m \u001b[1;33m\u001b[0m\u001b[0m\n\u001b[1;32m--> 178\u001b[1;33m         BaseDiscretizer.__init__(self, data, categorical_features,\n\u001b[0m\u001b[0;32m    179\u001b[0m                                  \u001b[0mfeature_names\u001b[0m\u001b[1;33m,\u001b[0m \u001b[0mlabels\u001b[0m\u001b[1;33m=\u001b[0m\u001b[0mlabels\u001b[0m\u001b[1;33m,\u001b[0m\u001b[1;33m\u001b[0m\u001b[1;33m\u001b[0m\u001b[0m\n\u001b[0;32m    180\u001b[0m                                  random_state=random_state)\n",
      "\u001b[1;32m~\\anaconda3\\lib\\site-packages\\lime\\discretize.py\u001b[0m in \u001b[0;36m__init__\u001b[1;34m(self, data, categorical_features, feature_names, labels, random_state, data_stats)\u001b[0m\n\u001b[0;32m     49\u001b[0m \u001b[1;33m\u001b[0m\u001b[0m\n\u001b[0;32m     50\u001b[0m         \u001b[1;31m# To override when implementing a custom binning\u001b[0m\u001b[1;33m\u001b[0m\u001b[1;33m\u001b[0m\u001b[1;33m\u001b[0m\u001b[0m\n\u001b[1;32m---> 51\u001b[1;33m         \u001b[0mbins\u001b[0m \u001b[1;33m=\u001b[0m \u001b[0mself\u001b[0m\u001b[1;33m.\u001b[0m\u001b[0mbins\u001b[0m\u001b[1;33m(\u001b[0m\u001b[0mdata\u001b[0m\u001b[1;33m,\u001b[0m \u001b[0mlabels\u001b[0m\u001b[1;33m)\u001b[0m\u001b[1;33m\u001b[0m\u001b[1;33m\u001b[0m\u001b[0m\n\u001b[0m\u001b[0;32m     52\u001b[0m         \u001b[0mbins\u001b[0m \u001b[1;33m=\u001b[0m \u001b[1;33m[\u001b[0m\u001b[0mnp\u001b[0m\u001b[1;33m.\u001b[0m\u001b[0munique\u001b[0m\u001b[1;33m(\u001b[0m\u001b[0mx\u001b[0m\u001b[1;33m)\u001b[0m \u001b[1;32mfor\u001b[0m \u001b[0mx\u001b[0m \u001b[1;32min\u001b[0m \u001b[0mbins\u001b[0m\u001b[1;33m]\u001b[0m\u001b[1;33m\u001b[0m\u001b[1;33m\u001b[0m\u001b[0m\n\u001b[0;32m     53\u001b[0m \u001b[1;33m\u001b[0m\u001b[0m\n",
      "\u001b[1;32m~\\anaconda3\\lib\\site-packages\\lime\\discretize.py\u001b[0m in \u001b[0;36mbins\u001b[1;34m(self, data, labels)\u001b[0m\n\u001b[0;32m    183\u001b[0m         \u001b[0mbins\u001b[0m \u001b[1;33m=\u001b[0m \u001b[1;33m[\u001b[0m\u001b[1;33m]\u001b[0m\u001b[1;33m\u001b[0m\u001b[1;33m\u001b[0m\u001b[0m\n\u001b[0;32m    184\u001b[0m         \u001b[1;32mfor\u001b[0m \u001b[0mfeature\u001b[0m \u001b[1;32min\u001b[0m \u001b[0mself\u001b[0m\u001b[1;33m.\u001b[0m\u001b[0mto_discretize\u001b[0m\u001b[1;33m:\u001b[0m\u001b[1;33m\u001b[0m\u001b[1;33m\u001b[0m\u001b[0m\n\u001b[1;32m--> 185\u001b[1;33m             \u001b[0mqts\u001b[0m \u001b[1;33m=\u001b[0m \u001b[0mnp\u001b[0m\u001b[1;33m.\u001b[0m\u001b[0marray\u001b[0m\u001b[1;33m(\u001b[0m\u001b[0mnp\u001b[0m\u001b[1;33m.\u001b[0m\u001b[0mpercentile\u001b[0m\u001b[1;33m(\u001b[0m\u001b[0mdata\u001b[0m\u001b[1;33m[\u001b[0m\u001b[1;33m:\u001b[0m\u001b[1;33m,\u001b[0m \u001b[0mfeature\u001b[0m\u001b[1;33m]\u001b[0m\u001b[1;33m,\u001b[0m \u001b[1;33m[\u001b[0m\u001b[1;36m25\u001b[0m\u001b[1;33m,\u001b[0m \u001b[1;36m50\u001b[0m\u001b[1;33m,\u001b[0m \u001b[1;36m75\u001b[0m\u001b[1;33m]\u001b[0m\u001b[1;33m)\u001b[0m\u001b[1;33m)\u001b[0m\u001b[1;33m\u001b[0m\u001b[1;33m\u001b[0m\u001b[0m\n\u001b[0m\u001b[0;32m    186\u001b[0m             \u001b[0mbins\u001b[0m\u001b[1;33m.\u001b[0m\u001b[0mappend\u001b[0m\u001b[1;33m(\u001b[0m\u001b[0mqts\u001b[0m\u001b[1;33m)\u001b[0m\u001b[1;33m\u001b[0m\u001b[1;33m\u001b[0m\u001b[0m\n\u001b[0;32m    187\u001b[0m         \u001b[1;32mreturn\u001b[0m \u001b[0mbins\u001b[0m\u001b[1;33m\u001b[0m\u001b[1;33m\u001b[0m\u001b[0m\n",
      "\u001b[1;32m~\\anaconda3\\lib\\site-packages\\pandas\\core\\frame.py\u001b[0m in \u001b[0;36m__getitem__\u001b[1;34m(self, key)\u001b[0m\n\u001b[0;32m   3759\u001b[0m             \u001b[1;32mif\u001b[0m \u001b[0mself\u001b[0m\u001b[1;33m.\u001b[0m\u001b[0mcolumns\u001b[0m\u001b[1;33m.\u001b[0m\u001b[0mnlevels\u001b[0m \u001b[1;33m>\u001b[0m \u001b[1;36m1\u001b[0m\u001b[1;33m:\u001b[0m\u001b[1;33m\u001b[0m\u001b[1;33m\u001b[0m\u001b[0m\n\u001b[0;32m   3760\u001b[0m                 \u001b[1;32mreturn\u001b[0m \u001b[0mself\u001b[0m\u001b[1;33m.\u001b[0m\u001b[0m_getitem_multilevel\u001b[0m\u001b[1;33m(\u001b[0m\u001b[0mkey\u001b[0m\u001b[1;33m)\u001b[0m\u001b[1;33m\u001b[0m\u001b[1;33m\u001b[0m\u001b[0m\n\u001b[1;32m-> 3761\u001b[1;33m             \u001b[0mindexer\u001b[0m \u001b[1;33m=\u001b[0m \u001b[0mself\u001b[0m\u001b[1;33m.\u001b[0m\u001b[0mcolumns\u001b[0m\u001b[1;33m.\u001b[0m\u001b[0mget_loc\u001b[0m\u001b[1;33m(\u001b[0m\u001b[0mkey\u001b[0m\u001b[1;33m)\u001b[0m\u001b[1;33m\u001b[0m\u001b[1;33m\u001b[0m\u001b[0m\n\u001b[0m\u001b[0;32m   3762\u001b[0m             \u001b[1;32mif\u001b[0m \u001b[0mis_integer\u001b[0m\u001b[1;33m(\u001b[0m\u001b[0mindexer\u001b[0m\u001b[1;33m)\u001b[0m\u001b[1;33m:\u001b[0m\u001b[1;33m\u001b[0m\u001b[1;33m\u001b[0m\u001b[0m\n\u001b[0;32m   3763\u001b[0m                 \u001b[0mindexer\u001b[0m \u001b[1;33m=\u001b[0m \u001b[1;33m[\u001b[0m\u001b[0mindexer\u001b[0m\u001b[1;33m]\u001b[0m\u001b[1;33m\u001b[0m\u001b[1;33m\u001b[0m\u001b[0m\n",
      "\u001b[1;32m~\\anaconda3\\lib\\site-packages\\pandas\\core\\indexes\\base.py\u001b[0m in \u001b[0;36mget_loc\u001b[1;34m(self, key)\u001b[0m\n\u001b[0;32m   3658\u001b[0m             \u001b[1;31m#  InvalidIndexError. Otherwise we fall through and re-raise\u001b[0m\u001b[1;33m\u001b[0m\u001b[1;33m\u001b[0m\u001b[1;33m\u001b[0m\u001b[0m\n\u001b[0;32m   3659\u001b[0m             \u001b[1;31m#  the TypeError.\u001b[0m\u001b[1;33m\u001b[0m\u001b[1;33m\u001b[0m\u001b[1;33m\u001b[0m\u001b[0m\n\u001b[1;32m-> 3660\u001b[1;33m             \u001b[0mself\u001b[0m\u001b[1;33m.\u001b[0m\u001b[0m_check_indexing_error\u001b[0m\u001b[1;33m(\u001b[0m\u001b[0mkey\u001b[0m\u001b[1;33m)\u001b[0m\u001b[1;33m\u001b[0m\u001b[1;33m\u001b[0m\u001b[0m\n\u001b[0m\u001b[0;32m   3661\u001b[0m             \u001b[1;32mraise\u001b[0m\u001b[1;33m\u001b[0m\u001b[1;33m\u001b[0m\u001b[0m\n\u001b[0;32m   3662\u001b[0m \u001b[1;33m\u001b[0m\u001b[0m\n",
      "\u001b[1;32m~\\anaconda3\\lib\\site-packages\\pandas\\core\\indexes\\base.py\u001b[0m in \u001b[0;36m_check_indexing_error\u001b[1;34m(self, key)\u001b[0m\n\u001b[0;32m   5735\u001b[0m             \u001b[1;31m# if key is not a scalar, directly raise an error (the code below\u001b[0m\u001b[1;33m\u001b[0m\u001b[1;33m\u001b[0m\u001b[1;33m\u001b[0m\u001b[0m\n\u001b[0;32m   5736\u001b[0m             \u001b[1;31m# would convert to numpy arrays and raise later any way) - GH29926\u001b[0m\u001b[1;33m\u001b[0m\u001b[1;33m\u001b[0m\u001b[1;33m\u001b[0m\u001b[0m\n\u001b[1;32m-> 5737\u001b[1;33m             \u001b[1;32mraise\u001b[0m \u001b[0mInvalidIndexError\u001b[0m\u001b[1;33m(\u001b[0m\u001b[0mkey\u001b[0m\u001b[1;33m)\u001b[0m\u001b[1;33m\u001b[0m\u001b[1;33m\u001b[0m\u001b[0m\n\u001b[0m\u001b[0;32m   5738\u001b[0m \u001b[1;33m\u001b[0m\u001b[0m\n\u001b[0;32m   5739\u001b[0m     \u001b[1;33m@\u001b[0m\u001b[0mcache_readonly\u001b[0m\u001b[1;33m\u001b[0m\u001b[1;33m\u001b[0m\u001b[0m\n",
      "\u001b[1;31mInvalidIndexError\u001b[0m: (slice(None, None, None), 0)"
     ]
    }
   ],
   "source": [
    "from lime import lime_tabular\n",
    "lime_tabular.LimeTabularExplainer(data, mode='classification')"
   ]
  },
  {
   "cell_type": "code",
   "execution_count": null,
   "id": "69dab734",
   "metadata": {},
   "outputs": [],
   "source": []
  }
 ],
 "metadata": {
  "kernelspec": {
   "display_name": "Python 3",
   "language": "python",
   "name": "python3"
  },
  "language_info": {
   "codemirror_mode": {
    "name": "ipython",
    "version": 3
   },
   "file_extension": ".py",
   "mimetype": "text/x-python",
   "name": "python",
   "nbconvert_exporter": "python",
   "pygments_lexer": "ipython3",
   "version": "3.8.8"
  }
 },
 "nbformat": 4,
 "nbformat_minor": 5
}
