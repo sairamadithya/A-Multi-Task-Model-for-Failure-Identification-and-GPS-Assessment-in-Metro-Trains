{
 "cells": [
  {
   "cell_type": "code",
   "execution_count": 1,
   "id": "24327246",
   "metadata": {},
   "outputs": [],
   "source": [
    "import pandas as pd\n",
    "import numpy as np"
   ]
  },
  {
   "cell_type": "code",
   "execution_count": 2,
   "id": "f9ab11f9",
   "metadata": {},
   "outputs": [],
   "source": [
    "jan= pd.read_csv(r\"C:\\Users\\sairam\\metropt- labelled- jan.csv\")\n",
    "jan=jan.drop(['Unnamed: 0.1','Unnamed: 0','timestamp'],axis=1)\n",
    "jan= jan.sample(500000,replace=True)"
   ]
  },
  {
   "cell_type": "code",
   "execution_count": 3,
   "id": "e77d4bf1",
   "metadata": {},
   "outputs": [],
   "source": [
    "feb= pd.read_csv(r\"C:\\Users\\sairam\\metropt- labelled- february.csv\")\n",
    "feb=feb.drop(['Unnamed: 0.1','Unnamed: 0','timestamp'],axis=1)\n",
    "feb_n=feb[feb['output']==3]\n",
    "feb_a0=feb[feb['output']==1]\n",
    "feb_n=feb_n.sample(500000,replace=True)\n",
    "feb_data=pd.concat([feb_n,feb_a0],axis=0)"
   ]
  },
  {
   "cell_type": "code",
   "execution_count": 8,
   "id": "382a016f",
   "metadata": {},
   "outputs": [],
   "source": [
    "mar= pd.read_csv(r\"C:\\Users\\sairam\\Downloads\\metropt- labelled- mar.csv\")\n",
    "mar=mar.drop(['Unnamed: 0.1','Unnamed: 0','timestamp'],axis=1)\n",
    "mar_n=mar[mar['output']==3]\n",
    "mar_a0=mar[mar['output']==0]\n",
    "mar_a1=mar[mar['output']==1]\n",
    "mar_n=mar_n.sample(500000,replace=True)\n",
    "mar_data=pd.concat([mar_n,mar_a0,mar_a1],axis=0)"
   ]
  },
  {
   "cell_type": "code",
   "execution_count": null,
   "id": "c8a29bf9",
   "metadata": {},
   "outputs": [],
   "source": [
    "mar['output'].value_counts()"
   ]
  },
  {
   "cell_type": "code",
   "execution_count": 5,
   "id": "72253886",
   "metadata": {},
   "outputs": [],
   "source": [
    "apr= pd.read_csv(r\"C:\\Users\\sairam\\metropt- labelled- apr.csv\")\n",
    "apr=apr.drop(['Unnamed: 0.1','Unnamed: 0','timestamp'],axis=1)\n",
    "apr= apr.sample(500000,replace=True)"
   ]
  },
  {
   "cell_type": "code",
   "execution_count": 6,
   "id": "d5ba1fc9",
   "metadata": {},
   "outputs": [],
   "source": [
    "may= pd.read_csv(r\"C:\\Users\\sairam\\metropt-labelled-may.csv\")\n",
    "may=may.drop(['Unnamed: 0.1','Unnamed: 0','timestamp'],axis=1)\n",
    "may_n=may[may['output']==3]\n",
    "may_o=may[may['output']==2]\n",
    "may_n=may_n.sample(500000,replace=True)\n",
    "may_data=pd.concat([may_n,may_o],axis=0)"
   ]
  },
  {
   "cell_type": "code",
   "execution_count": 7,
   "id": "5dd2a13a",
   "metadata": {},
   "outputs": [],
   "source": [
    "jun= pd.read_csv(r\"C:\\Users\\sairam\\metropt-laballed-jun.csv\")\n",
    "jun=jun.drop(['Unnamed: 0.1','Unnamed: 0','timestamp'],axis=1)\n",
    "jun_n=jun[jun['output']==3]\n",
    "jun_o=jun[jun['output']==2]\n",
    "jun_n=jun_n.sample(500000,replace=True)\n",
    "jun_data=pd.concat([jun_n,jun_o],axis=0)"
   ]
  },
  {
   "cell_type": "code",
   "execution_count": 9,
   "id": "42b11f14",
   "metadata": {},
   "outputs": [
    {
     "name": "stdout",
     "output_type": "stream",
     "text": [
      "<class 'pandas.core.frame.DataFrame'>\n",
      "Index: 3212104 entries, 1247481 to 80282\n",
      "Data columns (total 29 columns):\n",
      " #   Column           Dtype  \n",
      "---  ------           -----  \n",
      " 0   TP2              float64\n",
      " 1   TP3              float64\n",
      " 2   H1               float64\n",
      " 3   DV_pressure      float64\n",
      " 4   Reservoirs       float64\n",
      " 5   Oil_temperature  float64\n",
      " 6   Flowmeter        float64\n",
      " 7   Motor_current    float64\n",
      " 8   COMP             float64\n",
      " 9   DV_eletric       float64\n",
      " 10  Towers           float64\n",
      " 11  MPG              float64\n",
      " 12  LPS              float64\n",
      " 13  Pressure_switch  float64\n",
      " 14  Oil_level        float64\n",
      " 15  Caudal_impulses  float64\n",
      " 16  gpsLong          float64\n",
      " 17  gpsLat           float64\n",
      " 18  gpsSpeed         float64\n",
      " 19  gpsQuality       float64\n",
      " 20  month            int64  \n",
      " 21  day              int64  \n",
      " 22  hour             int64  \n",
      " 23  minute           int64  \n",
      " 24  second           int64  \n",
      " 25  fault            int64  \n",
      " 26  location         int64  \n",
      " 27  output           int64  \n",
      " 28  Unnamed: 0.2     float64\n",
      "dtypes: float64(21), int64(8)\n",
      "memory usage: 735.2 MB\n"
     ]
    }
   ],
   "source": [
    "data=pd.concat([jan,feb_data,mar_data,apr,may_data,jun_data],axis=0)\n",
    "data.info()"
   ]
  },
  {
   "cell_type": "code",
   "execution_count": 10,
   "id": "e6c94207",
   "metadata": {},
   "outputs": [
    {
     "data": {
      "text/plain": [
       "output\n",
       "3    3000000\n",
       "2     195484\n",
       "1      14821\n",
       "0       1799\n",
       "Name: count, dtype: int64"
      ]
     },
     "execution_count": 10,
     "metadata": {},
     "output_type": "execute_result"
    }
   ],
   "source": [
    "data['output'].value_counts()"
   ]
  },
  {
   "cell_type": "code",
   "execution_count": 11,
   "id": "29304565",
   "metadata": {},
   "outputs": [],
   "source": [
    "data=data.drop(['Unnamed: 0.2'],axis=1)"
   ]
  },
  {
   "cell_type": "code",
   "execution_count": 12,
   "id": "4cfabfc7",
   "metadata": {},
   "outputs": [],
   "source": [
    "data.to_csv('merged dataset.csv')"
   ]
  }
 ],
 "metadata": {
  "kernelspec": {
   "display_name": "Python 3",
   "language": "python",
   "name": "python3"
  },
  "language_info": {
   "codemirror_mode": {
    "name": "ipython",
    "version": 3
   },
   "file_extension": ".py",
   "mimetype": "text/x-python",
   "name": "python",
   "nbconvert_exporter": "python",
   "pygments_lexer": "ipython3",
   "version": "3.8.8"
  }
 },
 "nbformat": 4,
 "nbformat_minor": 5
}
