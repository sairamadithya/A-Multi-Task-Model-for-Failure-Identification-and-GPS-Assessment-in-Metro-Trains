{
 "cells": [
  {
   "cell_type": "code",
   "execution_count": 25,
   "id": "44e46691",
   "metadata": {},
   "outputs": [],
   "source": [
    "import numpy as np\n",
    "import pandas as pd\n",
    "import tensorflow as tf\n",
    "from tensorflow import keras\n",
    "from tensorflow.keras.layers import *\n",
    "from keras import Sequential"
   ]
  },
  {
   "cell_type": "code",
   "execution_count": 26,
   "id": "02e1a541",
   "metadata": {},
   "outputs": [
    {
     "data": {
      "text/html": [
       "<div>\n",
       "<style scoped>\n",
       "    .dataframe tbody tr th:only-of-type {\n",
       "        vertical-align: middle;\n",
       "    }\n",
       "\n",
       "    .dataframe tbody tr th {\n",
       "        vertical-align: top;\n",
       "    }\n",
       "\n",
       "    .dataframe thead th {\n",
       "        text-align: right;\n",
       "    }\n",
       "</style>\n",
       "<table border=\"1\" class=\"dataframe\">\n",
       "  <thead>\n",
       "    <tr style=\"text-align: right;\">\n",
       "      <th></th>\n",
       "      <th>Unnamed: 0</th>\n",
       "      <th>TP2</th>\n",
       "      <th>TP3</th>\n",
       "      <th>H1</th>\n",
       "      <th>DV_pressure</th>\n",
       "      <th>Reservoirs</th>\n",
       "      <th>Oil_temperature</th>\n",
       "      <th>Flowmeter</th>\n",
       "      <th>Motor_current</th>\n",
       "      <th>COMP</th>\n",
       "      <th>...</th>\n",
       "      <th>gpsSpeed</th>\n",
       "      <th>gpsQuality</th>\n",
       "      <th>month</th>\n",
       "      <th>day</th>\n",
       "      <th>hour</th>\n",
       "      <th>minute</th>\n",
       "      <th>second</th>\n",
       "      <th>fault</th>\n",
       "      <th>location</th>\n",
       "      <th>output</th>\n",
       "    </tr>\n",
       "  </thead>\n",
       "  <tbody>\n",
       "    <tr>\n",
       "      <th>0</th>\n",
       "      <td>1247481</td>\n",
       "      <td>-0.008</td>\n",
       "      <td>8.598</td>\n",
       "      <td>8.604</td>\n",
       "      <td>-0.026</td>\n",
       "      <td>1.696</td>\n",
       "      <td>59.925</td>\n",
       "      <td>18.853406</td>\n",
       "      <td>0.0000</td>\n",
       "      <td>1.0</td>\n",
       "      <td>...</td>\n",
       "      <td>0.0</td>\n",
       "      <td>1.0</td>\n",
       "      <td>1</td>\n",
       "      <td>18</td>\n",
       "      <td>12</td>\n",
       "      <td>31</td>\n",
       "      <td>4</td>\n",
       "      <td>2</td>\n",
       "      <td>3</td>\n",
       "      <td>3</td>\n",
       "    </tr>\n",
       "    <tr>\n",
       "      <th>1</th>\n",
       "      <td>1078410</td>\n",
       "      <td>-0.006</td>\n",
       "      <td>9.572</td>\n",
       "      <td>9.580</td>\n",
       "      <td>-0.024</td>\n",
       "      <td>1.708</td>\n",
       "      <td>73.000</td>\n",
       "      <td>19.030938</td>\n",
       "      <td>3.7825</td>\n",
       "      <td>1.0</td>\n",
       "      <td>...</td>\n",
       "      <td>0.0</td>\n",
       "      <td>0.0</td>\n",
       "      <td>1</td>\n",
       "      <td>16</td>\n",
       "      <td>1</td>\n",
       "      <td>33</td>\n",
       "      <td>16</td>\n",
       "      <td>2</td>\n",
       "      <td>3</td>\n",
       "      <td>3</td>\n",
       "    </tr>\n",
       "    <tr>\n",
       "      <th>2</th>\n",
       "      <td>1507241</td>\n",
       "      <td>-0.008</td>\n",
       "      <td>9.874</td>\n",
       "      <td>9.880</td>\n",
       "      <td>-0.026</td>\n",
       "      <td>1.704</td>\n",
       "      <td>72.275</td>\n",
       "      <td>19.030938</td>\n",
       "      <td>3.7775</td>\n",
       "      <td>1.0</td>\n",
       "      <td>...</td>\n",
       "      <td>0.0</td>\n",
       "      <td>1.0</td>\n",
       "      <td>1</td>\n",
       "      <td>22</td>\n",
       "      <td>0</td>\n",
       "      <td>57</td>\n",
       "      <td>55</td>\n",
       "      <td>2</td>\n",
       "      <td>3</td>\n",
       "      <td>3</td>\n",
       "    </tr>\n",
       "    <tr>\n",
       "      <th>3</th>\n",
       "      <td>598571</td>\n",
       "      <td>-0.008</td>\n",
       "      <td>9.678</td>\n",
       "      <td>9.680</td>\n",
       "      <td>-0.028</td>\n",
       "      <td>1.612</td>\n",
       "      <td>70.000</td>\n",
       "      <td>19.040281</td>\n",
       "      <td>3.7600</td>\n",
       "      <td>1.0</td>\n",
       "      <td>...</td>\n",
       "      <td>29.0</td>\n",
       "      <td>1.0</td>\n",
       "      <td>1</td>\n",
       "      <td>9</td>\n",
       "      <td>12</td>\n",
       "      <td>16</td>\n",
       "      <td>3</td>\n",
       "      <td>2</td>\n",
       "      <td>3</td>\n",
       "      <td>3</td>\n",
       "    </tr>\n",
       "    <tr>\n",
       "      <th>4</th>\n",
       "      <td>726390</td>\n",
       "      <td>-0.006</td>\n",
       "      <td>9.818</td>\n",
       "      <td>9.824</td>\n",
       "      <td>-0.026</td>\n",
       "      <td>1.594</td>\n",
       "      <td>72.850</td>\n",
       "      <td>19.030938</td>\n",
       "      <td>3.9350</td>\n",
       "      <td>1.0</td>\n",
       "      <td>...</td>\n",
       "      <td>0.0</td>\n",
       "      <td>1.0</td>\n",
       "      <td>1</td>\n",
       "      <td>11</td>\n",
       "      <td>7</td>\n",
       "      <td>46</td>\n",
       "      <td>20</td>\n",
       "      <td>2</td>\n",
       "      <td>3</td>\n",
       "      <td>3</td>\n",
       "    </tr>\n",
       "  </tbody>\n",
       "</table>\n",
       "<p>5 rows × 29 columns</p>\n",
       "</div>"
      ],
      "text/plain": [
       "   Unnamed: 0    TP2    TP3     H1  DV_pressure  Reservoirs  Oil_temperature  \\\n",
       "0     1247481 -0.008  8.598  8.604       -0.026       1.696           59.925   \n",
       "1     1078410 -0.006  9.572  9.580       -0.024       1.708           73.000   \n",
       "2     1507241 -0.008  9.874  9.880       -0.026       1.704           72.275   \n",
       "3      598571 -0.008  9.678  9.680       -0.028       1.612           70.000   \n",
       "4      726390 -0.006  9.818  9.824       -0.026       1.594           72.850   \n",
       "\n",
       "   Flowmeter  Motor_current  COMP  ...  gpsSpeed  gpsQuality  month  day  \\\n",
       "0  18.853406         0.0000   1.0  ...       0.0         1.0      1   18   \n",
       "1  19.030938         3.7825   1.0  ...       0.0         0.0      1   16   \n",
       "2  19.030938         3.7775   1.0  ...       0.0         1.0      1   22   \n",
       "3  19.040281         3.7600   1.0  ...      29.0         1.0      1    9   \n",
       "4  19.030938         3.9350   1.0  ...       0.0         1.0      1   11   \n",
       "\n",
       "   hour  minute  second  fault  location  output  \n",
       "0    12      31       4      2         3       3  \n",
       "1     1      33      16      2         3       3  \n",
       "2     0      57      55      2         3       3  \n",
       "3    12      16       3      2         3       3  \n",
       "4     7      46      20      2         3       3  \n",
       "\n",
       "[5 rows x 29 columns]"
      ]
     },
     "execution_count": 26,
     "metadata": {},
     "output_type": "execute_result"
    }
   ],
   "source": [
    "data=pd.read_csv(r\"C:\\Users\\sairam\\Downloads\\merged dataset.csv\")\n",
    "data.head()"
   ]
  },
  {
   "cell_type": "code",
   "execution_count": 27,
   "id": "8606d058",
   "metadata": {},
   "outputs": [
    {
     "data": {
      "text/plain": [
       "gpsQuality\n",
       "1.0    1687291\n",
       "0.0    1524813\n",
       "Name: count, dtype: int64"
      ]
     },
     "execution_count": 27,
     "metadata": {},
     "output_type": "execute_result"
    }
   ],
   "source": [
    "data['gpsQuality'].value_counts()"
   ]
  },
  {
   "cell_type": "code",
   "execution_count": 28,
   "id": "17a15ab5",
   "metadata": {},
   "outputs": [
    {
     "data": {
      "text/plain": [
       "fault\n",
       "2    3000000\n",
       "1     195484\n",
       "0      16620\n",
       "Name: count, dtype: int64"
      ]
     },
     "execution_count": 28,
     "metadata": {},
     "output_type": "execute_result"
    }
   ],
   "source": [
    "data['fault'].value_counts()"
   ]
  },
  {
   "cell_type": "code",
   "execution_count": 29,
   "id": "b00837ec",
   "metadata": {},
   "outputs": [
    {
     "data": {
      "text/plain": [
       "location\n",
       "3    3000000\n",
       "2     195484\n",
       "1      14821\n",
       "0       1799\n",
       "Name: count, dtype: int64"
      ]
     },
     "execution_count": 29,
     "metadata": {},
     "output_type": "execute_result"
    }
   ],
   "source": [
    "data['location'].value_counts()"
   ]
  },
  {
   "cell_type": "code",
   "execution_count": 30,
   "id": "68bd6037",
   "metadata": {},
   "outputs": [
    {
     "data": {
      "text/html": [
       "<div>\n",
       "<style scoped>\n",
       "    .dataframe tbody tr th:only-of-type {\n",
       "        vertical-align: middle;\n",
       "    }\n",
       "\n",
       "    .dataframe tbody tr th {\n",
       "        vertical-align: top;\n",
       "    }\n",
       "\n",
       "    .dataframe thead th {\n",
       "        text-align: right;\n",
       "    }\n",
       "</style>\n",
       "<table border=\"1\" class=\"dataframe\">\n",
       "  <thead>\n",
       "    <tr style=\"text-align: right;\">\n",
       "      <th></th>\n",
       "      <th>TP2</th>\n",
       "      <th>TP3</th>\n",
       "      <th>H1</th>\n",
       "      <th>DV_pressure</th>\n",
       "      <th>Reservoirs</th>\n",
       "      <th>Oil_temperature</th>\n",
       "      <th>Flowmeter</th>\n",
       "      <th>Motor_current</th>\n",
       "      <th>COMP</th>\n",
       "      <th>DV_eletric</th>\n",
       "      <th>...</th>\n",
       "      <th>gpsLat</th>\n",
       "      <th>gpsSpeed</th>\n",
       "      <th>gpsQuality</th>\n",
       "      <th>month</th>\n",
       "      <th>day</th>\n",
       "      <th>hour</th>\n",
       "      <th>minute</th>\n",
       "      <th>second</th>\n",
       "      <th>fault</th>\n",
       "      <th>location</th>\n",
       "    </tr>\n",
       "  </thead>\n",
       "  <tbody>\n",
       "    <tr>\n",
       "      <th>0</th>\n",
       "      <td>-0.008</td>\n",
       "      <td>8.598</td>\n",
       "      <td>8.604</td>\n",
       "      <td>-0.026</td>\n",
       "      <td>1.696</td>\n",
       "      <td>59.925</td>\n",
       "      <td>18.853406</td>\n",
       "      <td>0.0000</td>\n",
       "      <td>1.0</td>\n",
       "      <td>0.0</td>\n",
       "      <td>...</td>\n",
       "      <td>41.1882</td>\n",
       "      <td>0.0</td>\n",
       "      <td>1.0</td>\n",
       "      <td>1</td>\n",
       "      <td>18</td>\n",
       "      <td>12</td>\n",
       "      <td>31</td>\n",
       "      <td>4</td>\n",
       "      <td>2</td>\n",
       "      <td>3</td>\n",
       "    </tr>\n",
       "    <tr>\n",
       "      <th>1</th>\n",
       "      <td>-0.006</td>\n",
       "      <td>9.572</td>\n",
       "      <td>9.580</td>\n",
       "      <td>-0.024</td>\n",
       "      <td>1.708</td>\n",
       "      <td>73.000</td>\n",
       "      <td>19.030938</td>\n",
       "      <td>3.7825</td>\n",
       "      <td>1.0</td>\n",
       "      <td>0.0</td>\n",
       "      <td>...</td>\n",
       "      <td>0.0000</td>\n",
       "      <td>0.0</td>\n",
       "      <td>0.0</td>\n",
       "      <td>1</td>\n",
       "      <td>16</td>\n",
       "      <td>1</td>\n",
       "      <td>33</td>\n",
       "      <td>16</td>\n",
       "      <td>2</td>\n",
       "      <td>3</td>\n",
       "    </tr>\n",
       "    <tr>\n",
       "      <th>2</th>\n",
       "      <td>-0.008</td>\n",
       "      <td>9.874</td>\n",
       "      <td>9.880</td>\n",
       "      <td>-0.026</td>\n",
       "      <td>1.704</td>\n",
       "      <td>72.275</td>\n",
       "      <td>19.030938</td>\n",
       "      <td>3.7775</td>\n",
       "      <td>1.0</td>\n",
       "      <td>0.0</td>\n",
       "      <td>...</td>\n",
       "      <td>41.2123</td>\n",
       "      <td>0.0</td>\n",
       "      <td>1.0</td>\n",
       "      <td>1</td>\n",
       "      <td>22</td>\n",
       "      <td>0</td>\n",
       "      <td>57</td>\n",
       "      <td>55</td>\n",
       "      <td>2</td>\n",
       "      <td>3</td>\n",
       "    </tr>\n",
       "    <tr>\n",
       "      <th>3</th>\n",
       "      <td>-0.008</td>\n",
       "      <td>9.678</td>\n",
       "      <td>9.680</td>\n",
       "      <td>-0.028</td>\n",
       "      <td>1.612</td>\n",
       "      <td>70.000</td>\n",
       "      <td>19.040281</td>\n",
       "      <td>3.7600</td>\n",
       "      <td>1.0</td>\n",
       "      <td>0.0</td>\n",
       "      <td>...</td>\n",
       "      <td>41.1524</td>\n",
       "      <td>29.0</td>\n",
       "      <td>1.0</td>\n",
       "      <td>1</td>\n",
       "      <td>9</td>\n",
       "      <td>12</td>\n",
       "      <td>16</td>\n",
       "      <td>3</td>\n",
       "      <td>2</td>\n",
       "      <td>3</td>\n",
       "    </tr>\n",
       "    <tr>\n",
       "      <th>4</th>\n",
       "      <td>-0.006</td>\n",
       "      <td>9.818</td>\n",
       "      <td>9.824</td>\n",
       "      <td>-0.026</td>\n",
       "      <td>1.594</td>\n",
       "      <td>72.850</td>\n",
       "      <td>19.030938</td>\n",
       "      <td>3.9350</td>\n",
       "      <td>1.0</td>\n",
       "      <td>0.0</td>\n",
       "      <td>...</td>\n",
       "      <td>41.2136</td>\n",
       "      <td>0.0</td>\n",
       "      <td>1.0</td>\n",
       "      <td>1</td>\n",
       "      <td>11</td>\n",
       "      <td>7</td>\n",
       "      <td>46</td>\n",
       "      <td>20</td>\n",
       "      <td>2</td>\n",
       "      <td>3</td>\n",
       "    </tr>\n",
       "  </tbody>\n",
       "</table>\n",
       "<p>5 rows × 27 columns</p>\n",
       "</div>"
      ],
      "text/plain": [
       "     TP2    TP3     H1  DV_pressure  Reservoirs  Oil_temperature  Flowmeter  \\\n",
       "0 -0.008  8.598  8.604       -0.026       1.696           59.925  18.853406   \n",
       "1 -0.006  9.572  9.580       -0.024       1.708           73.000  19.030938   \n",
       "2 -0.008  9.874  9.880       -0.026       1.704           72.275  19.030938   \n",
       "3 -0.008  9.678  9.680       -0.028       1.612           70.000  19.040281   \n",
       "4 -0.006  9.818  9.824       -0.026       1.594           72.850  19.030938   \n",
       "\n",
       "   Motor_current  COMP  DV_eletric  ...   gpsLat  gpsSpeed  gpsQuality  month  \\\n",
       "0         0.0000   1.0         0.0  ...  41.1882       0.0         1.0      1   \n",
       "1         3.7825   1.0         0.0  ...   0.0000       0.0         0.0      1   \n",
       "2         3.7775   1.0         0.0  ...  41.2123       0.0         1.0      1   \n",
       "3         3.7600   1.0         0.0  ...  41.1524      29.0         1.0      1   \n",
       "4         3.9350   1.0         0.0  ...  41.2136       0.0         1.0      1   \n",
       "\n",
       "   day  hour  minute  second  fault  location  \n",
       "0   18    12      31       4      2         3  \n",
       "1   16     1      33      16      2         3  \n",
       "2   22     0      57      55      2         3  \n",
       "3    9    12      16       3      2         3  \n",
       "4   11     7      46      20      2         3  \n",
       "\n",
       "[5 rows x 27 columns]"
      ]
     },
     "execution_count": 30,
     "metadata": {},
     "output_type": "execute_result"
    }
   ],
   "source": [
    "data=data.drop(['Unnamed: 0','output'],axis=1)\n",
    "data.head()"
   ]
  },
  {
   "cell_type": "code",
   "execution_count": 44,
   "id": "7c4b82ab",
   "metadata": {},
   "outputs": [],
   "source": [
    "y1=data['fault']\n",
    "y2=data['location']\n",
    "y3=data['gpsQuality']\n",
    "x=data.drop(['fault','location','gpsQuality'],axis=1)"
   ]
  },
  {
   "cell_type": "code",
   "execution_count": 45,
   "id": "b71bdec4",
   "metadata": {},
   "outputs": [
    {
     "data": {
      "text/html": [
       "<div>\n",
       "<style scoped>\n",
       "    .dataframe tbody tr th:only-of-type {\n",
       "        vertical-align: middle;\n",
       "    }\n",
       "\n",
       "    .dataframe tbody tr th {\n",
       "        vertical-align: top;\n",
       "    }\n",
       "\n",
       "    .dataframe thead th {\n",
       "        text-align: right;\n",
       "    }\n",
       "</style>\n",
       "<table border=\"1\" class=\"dataframe\">\n",
       "  <thead>\n",
       "    <tr style=\"text-align: right;\">\n",
       "      <th></th>\n",
       "      <th>TP2</th>\n",
       "      <th>TP3</th>\n",
       "      <th>H1</th>\n",
       "      <th>DV_pressure</th>\n",
       "      <th>Reservoirs</th>\n",
       "      <th>Oil_temperature</th>\n",
       "      <th>Flowmeter</th>\n",
       "      <th>Motor_current</th>\n",
       "      <th>COMP</th>\n",
       "      <th>DV_eletric</th>\n",
       "      <th>...</th>\n",
       "      <th>Oil_level</th>\n",
       "      <th>Caudal_impulses</th>\n",
       "      <th>gpsLong</th>\n",
       "      <th>gpsLat</th>\n",
       "      <th>gpsSpeed</th>\n",
       "      <th>month</th>\n",
       "      <th>day</th>\n",
       "      <th>hour</th>\n",
       "      <th>minute</th>\n",
       "      <th>second</th>\n",
       "    </tr>\n",
       "  </thead>\n",
       "  <tbody>\n",
       "    <tr>\n",
       "      <th>count</th>\n",
       "      <td>3.212104e+06</td>\n",
       "      <td>3.212104e+06</td>\n",
       "      <td>3.212104e+06</td>\n",
       "      <td>3.212104e+06</td>\n",
       "      <td>3.212104e+06</td>\n",
       "      <td>3.212104e+06</td>\n",
       "      <td>3.212104e+06</td>\n",
       "      <td>3.212104e+06</td>\n",
       "      <td>3.212104e+06</td>\n",
       "      <td>3.212104e+06</td>\n",
       "      <td>...</td>\n",
       "      <td>3.212104e+06</td>\n",
       "      <td>3.212104e+06</td>\n",
       "      <td>3.212104e+06</td>\n",
       "      <td>3.212104e+06</td>\n",
       "      <td>3.212104e+06</td>\n",
       "      <td>3.212104e+06</td>\n",
       "      <td>3.212104e+06</td>\n",
       "      <td>3.212104e+06</td>\n",
       "      <td>3.212104e+06</td>\n",
       "      <td>3.212104e+06</td>\n",
       "    </tr>\n",
       "    <tr>\n",
       "      <th>mean</th>\n",
       "      <td>1.023738e-01</td>\n",
       "      <td>8.603844e-01</td>\n",
       "      <td>7.497095e-01</td>\n",
       "      <td>1.749127e-03</td>\n",
       "      <td>2.593932e-01</td>\n",
       "      <td>6.148196e-01</td>\n",
       "      <td>3.998019e-01</td>\n",
       "      <td>2.323028e-01</td>\n",
       "      <td>8.754225e-01</td>\n",
       "      <td>1.245835e-01</td>\n",
       "      <td>...</td>\n",
       "      <td>1.512554e-01</td>\n",
       "      <td>1.524767e-01</td>\n",
       "      <td>5.030387e-01</td>\n",
       "      <td>5.157880e-01</td>\n",
       "      <td>1.764062e-02</td>\n",
       "      <td>5.222644e-01</td>\n",
       "      <td>4.951628e-01</td>\n",
       "      <td>5.646238e-01</td>\n",
       "      <td>4.996437e-01</td>\n",
       "      <td>4.998401e-01</td>\n",
       "    </tr>\n",
       "    <tr>\n",
       "      <th>std</th>\n",
       "      <td>2.745134e-01</td>\n",
       "      <td>7.334858e-02</td>\n",
       "      <td>2.867305e-01</td>\n",
       "      <td>1.737905e-02</td>\n",
       "      <td>2.574555e-01</td>\n",
       "      <td>8.109832e-02</td>\n",
       "      <td>1.872237e-01</td>\n",
       "      <td>2.271283e-01</td>\n",
       "      <td>3.302393e-01</td>\n",
       "      <td>3.302460e-01</td>\n",
       "      <td>...</td>\n",
       "      <td>3.582977e-01</td>\n",
       "      <td>3.594824e-01</td>\n",
       "      <td>4.724406e-01</td>\n",
       "      <td>4.903258e-01</td>\n",
       "      <td>4.091780e-02</td>\n",
       "      <td>3.437805e-01</td>\n",
       "      <td>3.029212e-01</td>\n",
       "      <td>2.843427e-01</td>\n",
       "      <td>2.937239e-01</td>\n",
       "      <td>2.935419e-01</td>\n",
       "    </tr>\n",
       "    <tr>\n",
       "      <th>min</th>\n",
       "      <td>0.000000e+00</td>\n",
       "      <td>0.000000e+00</td>\n",
       "      <td>0.000000e+00</td>\n",
       "      <td>0.000000e+00</td>\n",
       "      <td>0.000000e+00</td>\n",
       "      <td>0.000000e+00</td>\n",
       "      <td>0.000000e+00</td>\n",
       "      <td>0.000000e+00</td>\n",
       "      <td>0.000000e+00</td>\n",
       "      <td>0.000000e+00</td>\n",
       "      <td>...</td>\n",
       "      <td>0.000000e+00</td>\n",
       "      <td>0.000000e+00</td>\n",
       "      <td>0.000000e+00</td>\n",
       "      <td>0.000000e+00</td>\n",
       "      <td>0.000000e+00</td>\n",
       "      <td>0.000000e+00</td>\n",
       "      <td>0.000000e+00</td>\n",
       "      <td>0.000000e+00</td>\n",
       "      <td>0.000000e+00</td>\n",
       "      <td>0.000000e+00</td>\n",
       "    </tr>\n",
       "    <tr>\n",
       "      <th>25%</th>\n",
       "      <td>1.833853e-03</td>\n",
       "      <td>8.144588e-01</td>\n",
       "      <td>7.924962e-01</td>\n",
       "      <td>7.262164e-04</td>\n",
       "      <td>1.418640e-01</td>\n",
       "      <td>5.604527e-01</td>\n",
       "      <td>4.370500e-01</td>\n",
       "      <td>1.804589e-03</td>\n",
       "      <td>1.000000e+00</td>\n",
       "      <td>0.000000e+00</td>\n",
       "      <td>...</td>\n",
       "      <td>0.000000e+00</td>\n",
       "      <td>0.000000e+00</td>\n",
       "      <td>5.158076e-02</td>\n",
       "      <td>0.000000e+00</td>\n",
       "      <td>0.000000e+00</td>\n",
       "      <td>2.000000e-01</td>\n",
       "      <td>2.333333e-01</td>\n",
       "      <td>3.478261e-01</td>\n",
       "      <td>2.372881e-01</td>\n",
       "      <td>2.372881e-01</td>\n",
       "    </tr>\n",
       "    <tr>\n",
       "      <th>50%</th>\n",
       "      <td>2.017238e-03</td>\n",
       "      <td>8.619496e-01</td>\n",
       "      <td>8.407351e-01</td>\n",
       "      <td>1.210361e-03</td>\n",
       "      <td>1.549367e-01</td>\n",
       "      <td>6.283502e-01</td>\n",
       "      <td>4.385774e-01</td>\n",
       "      <td>3.810260e-01</td>\n",
       "      <td>1.000000e+00</td>\n",
       "      <td>0.000000e+00</td>\n",
       "      <td>...</td>\n",
       "      <td>0.000000e+00</td>\n",
       "      <td>0.000000e+00</td>\n",
       "      <td>6.424484e-02</td>\n",
       "      <td>9.809914e-01</td>\n",
       "      <td>0.000000e+00</td>\n",
       "      <td>6.000000e-01</td>\n",
       "      <td>5.000000e-01</td>\n",
       "      <td>5.652174e-01</td>\n",
       "      <td>4.915254e-01</td>\n",
       "      <td>4.915254e-01</td>\n",
       "    </tr>\n",
       "    <tr>\n",
       "      <th>75%</th>\n",
       "      <td>2.200624e-03</td>\n",
       "      <td>9.107864e-01</td>\n",
       "      <td>8.922282e-01</td>\n",
       "      <td>1.694505e-03</td>\n",
       "      <td>1.610886e-01</td>\n",
       "      <td>6.745086e-01</td>\n",
       "      <td>4.429413e-01</td>\n",
       "      <td>3.957205e-01</td>\n",
       "      <td>1.000000e+00</td>\n",
       "      <td>0.000000e+00</td>\n",
       "      <td>...</td>\n",
       "      <td>0.000000e+00</td>\n",
       "      <td>0.000000e+00</td>\n",
       "      <td>1.000000e+00</td>\n",
       "      <td>9.818685e-01</td>\n",
       "      <td>0.000000e+00</td>\n",
       "      <td>8.000000e-01</td>\n",
       "      <td>7.666667e-01</td>\n",
       "      <td>7.826087e-01</td>\n",
       "      <td>7.457627e-01</td>\n",
       "      <td>7.457627e-01</td>\n",
       "    </tr>\n",
       "    <tr>\n",
       "      <th>max</th>\n",
       "      <td>1.000000e+00</td>\n",
       "      <td>1.000000e+00</td>\n",
       "      <td>1.000000e+00</td>\n",
       "      <td>1.000000e+00</td>\n",
       "      <td>1.000000e+00</td>\n",
       "      <td>1.000000e+00</td>\n",
       "      <td>1.000000e+00</td>\n",
       "      <td>1.000000e+00</td>\n",
       "      <td>1.000000e+00</td>\n",
       "      <td>1.000000e+00</td>\n",
       "      <td>...</td>\n",
       "      <td>1.000000e+00</td>\n",
       "      <td>1.000000e+00</td>\n",
       "      <td>1.000000e+00</td>\n",
       "      <td>1.000000e+00</td>\n",
       "      <td>1.000000e+00</td>\n",
       "      <td>1.000000e+00</td>\n",
       "      <td>1.000000e+00</td>\n",
       "      <td>1.000000e+00</td>\n",
       "      <td>1.000000e+00</td>\n",
       "      <td>1.000000e+00</td>\n",
       "    </tr>\n",
       "  </tbody>\n",
       "</table>\n",
       "<p>8 rows × 24 columns</p>\n",
       "</div>"
      ],
      "text/plain": [
       "                TP2           TP3            H1   DV_pressure    Reservoirs  \\\n",
       "count  3.212104e+06  3.212104e+06  3.212104e+06  3.212104e+06  3.212104e+06   \n",
       "mean   1.023738e-01  8.603844e-01  7.497095e-01  1.749127e-03  2.593932e-01   \n",
       "std    2.745134e-01  7.334858e-02  2.867305e-01  1.737905e-02  2.574555e-01   \n",
       "min    0.000000e+00  0.000000e+00  0.000000e+00  0.000000e+00  0.000000e+00   \n",
       "25%    1.833853e-03  8.144588e-01  7.924962e-01  7.262164e-04  1.418640e-01   \n",
       "50%    2.017238e-03  8.619496e-01  8.407351e-01  1.210361e-03  1.549367e-01   \n",
       "75%    2.200624e-03  9.107864e-01  8.922282e-01  1.694505e-03  1.610886e-01   \n",
       "max    1.000000e+00  1.000000e+00  1.000000e+00  1.000000e+00  1.000000e+00   \n",
       "\n",
       "       Oil_temperature     Flowmeter  Motor_current          COMP  \\\n",
       "count     3.212104e+06  3.212104e+06   3.212104e+06  3.212104e+06   \n",
       "mean      6.148196e-01  3.998019e-01   2.323028e-01  8.754225e-01   \n",
       "std       8.109832e-02  1.872237e-01   2.271283e-01  3.302393e-01   \n",
       "min       0.000000e+00  0.000000e+00   0.000000e+00  0.000000e+00   \n",
       "25%       5.604527e-01  4.370500e-01   1.804589e-03  1.000000e+00   \n",
       "50%       6.283502e-01  4.385774e-01   3.810260e-01  1.000000e+00   \n",
       "75%       6.745086e-01  4.429413e-01   3.957205e-01  1.000000e+00   \n",
       "max       1.000000e+00  1.000000e+00   1.000000e+00  1.000000e+00   \n",
       "\n",
       "         DV_eletric  ...     Oil_level  Caudal_impulses       gpsLong  \\\n",
       "count  3.212104e+06  ...  3.212104e+06     3.212104e+06  3.212104e+06   \n",
       "mean   1.245835e-01  ...  1.512554e-01     1.524767e-01  5.030387e-01   \n",
       "std    3.302460e-01  ...  3.582977e-01     3.594824e-01  4.724406e-01   \n",
       "min    0.000000e+00  ...  0.000000e+00     0.000000e+00  0.000000e+00   \n",
       "25%    0.000000e+00  ...  0.000000e+00     0.000000e+00  5.158076e-02   \n",
       "50%    0.000000e+00  ...  0.000000e+00     0.000000e+00  6.424484e-02   \n",
       "75%    0.000000e+00  ...  0.000000e+00     0.000000e+00  1.000000e+00   \n",
       "max    1.000000e+00  ...  1.000000e+00     1.000000e+00  1.000000e+00   \n",
       "\n",
       "             gpsLat      gpsSpeed         month           day          hour  \\\n",
       "count  3.212104e+06  3.212104e+06  3.212104e+06  3.212104e+06  3.212104e+06   \n",
       "mean   5.157880e-01  1.764062e-02  5.222644e-01  4.951628e-01  5.646238e-01   \n",
       "std    4.903258e-01  4.091780e-02  3.437805e-01  3.029212e-01  2.843427e-01   \n",
       "min    0.000000e+00  0.000000e+00  0.000000e+00  0.000000e+00  0.000000e+00   \n",
       "25%    0.000000e+00  0.000000e+00  2.000000e-01  2.333333e-01  3.478261e-01   \n",
       "50%    9.809914e-01  0.000000e+00  6.000000e-01  5.000000e-01  5.652174e-01   \n",
       "75%    9.818685e-01  0.000000e+00  8.000000e-01  7.666667e-01  7.826087e-01   \n",
       "max    1.000000e+00  1.000000e+00  1.000000e+00  1.000000e+00  1.000000e+00   \n",
       "\n",
       "             minute        second  \n",
       "count  3.212104e+06  3.212104e+06  \n",
       "mean   4.996437e-01  4.998401e-01  \n",
       "std    2.937239e-01  2.935419e-01  \n",
       "min    0.000000e+00  0.000000e+00  \n",
       "25%    2.372881e-01  2.372881e-01  \n",
       "50%    4.915254e-01  4.915254e-01  \n",
       "75%    7.457627e-01  7.457627e-01  \n",
       "max    1.000000e+00  1.000000e+00  \n",
       "\n",
       "[8 rows x 24 columns]"
      ]
     },
     "execution_count": 45,
     "metadata": {},
     "output_type": "execute_result"
    }
   ],
   "source": [
    "for i in x.columns:\n",
    "    x[i]=(x[i]-np.min(x[i]))/(np.max(x[i])-np.min(x[i]))\n",
    "x.describe()"
   ]
  },
  {
   "cell_type": "code",
   "execution_count": 33,
   "id": "df2e3815",
   "metadata": {},
   "outputs": [],
   "source": [
    "#from imblearn.over_sampling import SMOTE\n",
    "#from imblearn.under_sampling import RandomUnderSampler\n",
    "#over1=SMOTE(sampling_strategy={0:198000, 1:198000})\n",
    "#under1 = RandomUnderSampler({2:198000})\n",
    "#over2=SMOTE(sampling_strategy={0:198000, 1:198000,2:198000})\n",
    "#under2 = RandomUnderSampler({3:198000})\n",
    "#from imblearn.pipeline import Pipeline\n",
    "#pipeline1 = Pipeline([('o', over1), ('u', under1)])\n",
    "#pipeline2 = Pipeline([('o', over2), ('u', under2)])\n",
    "#x,y1=pipeline1.fit_resample(x,y1)\n",
    "#x,y2=pipeline1.fit_resample(x,y2)"
   ]
  },
  {
   "cell_type": "code",
   "execution_count": 46,
   "id": "76877f13",
   "metadata": {},
   "outputs": [],
   "source": [
    "from tensorflow.keras.utils import to_categorical\n",
    "y1=to_categorical(y1,num_classes=4)\n",
    "y2=to_categorical(y2,num_classes=4)\n",
    "y3=to_categorical(y3,num_classes=2)"
   ]
  },
  {
   "cell_type": "code",
   "execution_count": 47,
   "id": "df00981e",
   "metadata": {},
   "outputs": [],
   "source": [
    "from sklearn.model_selection import train_test_split\n",
    "x_train,x_test,y_train1,y_test1,y_train2,y_test2,t_train3,y_test3=train_test_split(x,y1,y2,y3,stratify=y1,test_size=.2)"
   ]
  },
  {
   "cell_type": "code",
   "execution_count": 48,
   "id": "8d7ad950",
   "metadata": {},
   "outputs": [
    {
     "data": {
      "text/plain": [
       "(array([0., 1.], dtype=float32),\n",
       " array([0., 1.], dtype=float32),\n",
       " array([0., 1.], dtype=float32))"
      ]
     },
     "execution_count": 48,
     "metadata": {},
     "output_type": "execute_result"
    }
   ],
   "source": [
    "np.unique(y_test1),np.unique(y_test2),np.unique(y_test3)"
   ]
  },
  {
   "cell_type": "code",
   "execution_count": 49,
   "id": "73f18943",
   "metadata": {},
   "outputs": [
    {
     "data": {
      "text/plain": [
       "(array([0., 1.], dtype=float32),\n",
       " array([0., 1.], dtype=float32),\n",
       " array([0., 1.], dtype=float32))"
      ]
     },
     "execution_count": 49,
     "metadata": {},
     "output_type": "execute_result"
    }
   ],
   "source": [
    "np.unique(y_train1),np.unique(y_train2),np.unique(t_train3)"
   ]
  },
  {
   "cell_type": "code",
   "execution_count": 50,
   "id": "fe8ec48c",
   "metadata": {},
   "outputs": [
    {
     "name": "stdout",
     "output_type": "stream",
     "text": [
      "Model: \"model_2\"\n",
      "__________________________________________________________________________________________________\n",
      " Layer (type)                   Output Shape         Param #     Connected to                     \n",
      "==================================================================================================\n",
      " input (InputLayer)             [(None, 24)]         0           []                               \n",
      "                                                                                                  \n",
      " shared_hidden (Dense)          (None, 16)           400         ['input[0][0]']                  \n",
      "                                                                                                  \n",
      " shared_regularization_1 (Batch  (None, 16)          64          ['shared_hidden[0][0]']          \n",
      " Normalization)                                                                                   \n",
      "                                                                                                  \n",
      " shared_regularization_2 (Gauss  (None, 16)          0           ['shared_regularization_1[0][0]']\n",
      " ianNoise)                                                                                        \n",
      "                                                                                                  \n",
      " hidden_location (Dense)        (None, 4)            68          ['shared_regularization_2[0][0]']\n",
      "                                                                                                  \n",
      " fault_output (Dense)           (None, 4)            68          ['shared_regularization_2[0][0]']\n",
      "                                                                                                  \n",
      " location_output (Dense)        (None, 4)            20          ['hidden_location[0][0]']        \n",
      "                                                                                                  \n",
      " gps_output (Dense)             (None, 2)            34          ['shared_regularization_2[0][0]']\n",
      "                                                                                                  \n",
      "==================================================================================================\n",
      "Total params: 654\n",
      "Trainable params: 622\n",
      "Non-trainable params: 32\n",
      "__________________________________________________________________________________________________\n"
     ]
    }
   ],
   "source": [
    "inputs = tf.keras.layers.Input(shape=([24]), name='input')\n",
    "main_branch=tf.keras.layers.Dense(16,activation='relu',name='shared_hidden')(inputs)\n",
    "main_branch_1=tf.keras.layers.BatchNormalization(name='shared_regularization_1')(main_branch)\n",
    "main_branch_2=tf.keras.layers.GaussianNoise(0.15,name='shared_regularization_2')(main_branch_1)\n",
    "task_1_op = tf.keras.layers.Dense(4, activation='softmax', name='fault_output')(main_branch_2)\n",
    "\n",
    "task_2_out= tf.keras.layers.Dense(4,activation='relu',name='hidden_location')(main_branch_2)\n",
    "task_2_op = tf.keras.layers.Dense(4, activation='softmax', name='location_output')(task_2_out)\n",
    "\n",
    "task_3_op = tf.keras.layers.Dense(2, activation='softmax', name='gps_output')(main_branch_2)\n",
    "model = tf.keras.Model(inputs = inputs, outputs = [task_1_op, task_2_op,task_3_op])\n",
    "model.summary()"
   ]
  },
  {
   "cell_type": "code",
   "execution_count": 51,
   "id": "e2da0587",
   "metadata": {},
   "outputs": [],
   "source": [
    "model.compile('adam','categorical_crossentropy',metrics=['categorical_accuracy','Precision','Recall','AUC'])"
   ]
  },
  {
   "cell_type": "code",
   "execution_count": 52,
   "id": "99e279d8",
   "metadata": {},
   "outputs": [
    {
     "name": "stdout",
     "output_type": "stream",
     "text": [
      "Epoch 1/12\n",
      "103/103 [==============================] - 14s 85ms/step - loss: 2.6196 - fault_output_loss: 1.2588 - location_output_loss: 0.9135 - gps_output_loss: 0.4473 - fault_output_categorical_accuracy: 0.5109 - fault_output_precision: 0.6078 - fault_output_recall: 0.1376 - fault_output_auc: 0.7182 - location_output_categorical_accuracy: 0.7649 - location_output_precision_1: 0.8644 - location_output_recall_1: 0.3769 - location_output_auc_1: 0.8873 - gps_output_categorical_accuracy: 0.7949 - gps_output_precision_2: 0.7949 - gps_output_recall_2: 0.7949 - gps_output_auc_2: 0.8779 - val_loss: 2.0680 - val_fault_output_loss: 0.9979 - val_location_output_loss: 0.7538 - val_gps_output_loss: 0.3163 - val_fault_output_categorical_accuracy: 0.8603 - val_fault_output_precision: 0.9973 - val_fault_output_recall: 0.0488 - val_fault_output_auc: 0.9567 - val_location_output_categorical_accuracy: 0.9340 - val_location_output_precision_1: 0.9820 - val_location_output_recall_1: 0.5041 - val_location_output_auc_1: 0.9596 - val_gps_output_categorical_accuracy: 0.9999 - val_gps_output_precision_2: 0.9999 - val_gps_output_recall_2: 0.9999 - val_gps_output_auc_2: 1.0000\n",
      "Epoch 2/12\n",
      "103/103 [==============================] - 5s 52ms/step - loss: 1.0619 - fault_output_loss: 0.6487 - location_output_loss: 0.3673 - gps_output_loss: 0.0459 - fault_output_categorical_accuracy: 0.8740 - fault_output_precision: 0.9728 - fault_output_recall: 0.6712 - fault_output_auc: 0.9710 - location_output_categorical_accuracy: 0.9339 - location_output_precision_1: 0.9343 - location_output_recall_1: 0.9252 - location_output_auc_1: 0.9755 - gps_output_categorical_accuracy: 0.9999 - gps_output_precision_2: 0.9999 - gps_output_recall_2: 0.9999 - gps_output_auc_2: 1.0000 - val_loss: 0.8692 - val_fault_output_loss: 0.4465 - val_location_output_loss: 0.3462 - val_gps_output_loss: 0.0765 - val_fault_output_categorical_accuracy: 0.9333 - val_fault_output_precision: 0.9689 - val_fault_output_recall: 0.8754 - val_fault_output_auc: 0.9928 - val_location_output_categorical_accuracy: 0.9340 - val_location_output_precision_1: 0.9349 - val_location_output_recall_1: 0.9321 - val_location_output_auc_1: 0.9870 - val_gps_output_categorical_accuracy: 1.0000 - val_gps_output_precision_2: 1.0000 - val_gps_output_recall_2: 1.0000 - val_gps_output_auc_2: 1.0000\n",
      "Epoch 3/12\n",
      "103/103 [==============================] - 5s 51ms/step - loss: 0.5656 - fault_output_loss: 0.3073 - location_output_loss: 0.2429 - gps_output_loss: 0.0153 - fault_output_categorical_accuracy: 0.9357 - fault_output_precision: 0.9463 - fault_output_recall: 0.9217 - fault_output_auc: 0.9923 - location_output_categorical_accuracy: 0.9340 - location_output_precision_1: 0.9345 - location_output_recall_1: 0.9329 - location_output_auc_1: 0.9908 - gps_output_categorical_accuracy: 1.0000 - gps_output_precision_2: 1.0000 - gps_output_recall_2: 1.0000 - gps_output_auc_2: 1.0000 - val_loss: 0.5341 - val_fault_output_loss: 0.2733 - val_location_output_loss: 0.2349 - val_gps_output_loss: 0.0259 - val_fault_output_categorical_accuracy: 0.9338 - val_fault_output_precision: 0.9516 - val_fault_output_recall: 0.9272 - val_fault_output_auc: 0.9956 - val_location_output_categorical_accuracy: 0.9340 - val_location_output_precision_1: 0.9342 - val_location_output_recall_1: 0.9335 - val_location_output_auc_1: 0.9938 - val_gps_output_categorical_accuracy: 1.0000 - val_gps_output_precision_2: 1.0000 - val_gps_output_recall_2: 1.0000 - val_gps_output_auc_2: 1.0000\n",
      "Epoch 4/12\n",
      "103/103 [==============================] - 5s 53ms/step - loss: 0.4231 - fault_output_loss: 0.2048 - location_output_loss: 0.2093 - gps_output_loss: 0.0090 - fault_output_categorical_accuracy: 0.9372 - fault_output_precision: 0.9428 - fault_output_recall: 0.9321 - fault_output_auc: 0.9952 - location_output_categorical_accuracy: 0.9340 - location_output_precision_1: 0.9347 - location_output_recall_1: 0.9332 - location_output_auc_1: 0.9939 - gps_output_categorical_accuracy: 1.0000 - gps_output_precision_2: 1.0000 - gps_output_recall_2: 1.0000 - gps_output_auc_2: 1.0000 - val_loss: 0.4062 - val_fault_output_loss: 0.1890 - val_location_output_loss: 0.2051 - val_gps_output_loss: 0.0121 - val_fault_output_categorical_accuracy: 0.9356 - val_fault_output_precision: 0.9450 - val_fault_output_recall: 0.9323 - val_fault_output_auc: 0.9963 - val_location_output_categorical_accuracy: 0.9340 - val_location_output_precision_1: 0.9343 - val_location_output_recall_1: 0.9335 - val_location_output_auc_1: 0.9950 - val_gps_output_categorical_accuracy: 1.0000 - val_gps_output_precision_2: 1.0000 - val_gps_output_recall_2: 1.0000 - val_gps_output_auc_2: 1.0000\n",
      "Epoch 5/12\n",
      "103/103 [==============================] - 5s 51ms/step - loss: 0.3599 - fault_output_loss: 0.1624 - location_output_loss: 0.1911 - gps_output_loss: 0.0064 - fault_output_categorical_accuracy: 0.9404 - fault_output_precision: 0.9469 - fault_output_recall: 0.9337 - fault_output_auc: 0.9961 - location_output_categorical_accuracy: 0.9340 - location_output_precision_1: 0.9353 - location_output_recall_1: 0.9332 - location_output_auc_1: 0.9952 - gps_output_categorical_accuracy: 1.0000 - gps_output_precision_2: 1.0000 - gps_output_recall_2: 1.0000 - gps_output_auc_2: 1.0000 - val_loss: 0.3448 - val_fault_output_loss: 0.1489 - val_location_output_loss: 0.1879 - val_gps_output_loss: 0.0080 - val_fault_output_categorical_accuracy: 0.9389 - val_fault_output_precision: 0.9478 - val_fault_output_recall: 0.9338 - val_fault_output_auc: 0.9969 - val_location_output_categorical_accuracy: 0.9340 - val_location_output_precision_1: 0.9346 - val_location_output_recall_1: 0.9335 - val_location_output_auc_1: 0.9956 - val_gps_output_categorical_accuracy: 1.0000 - val_gps_output_precision_2: 1.0000 - val_gps_output_recall_2: 1.0000 - val_gps_output_auc_2: 1.0000\n",
      "Epoch 6/12\n",
      "103/103 [==============================] - 5s 50ms/step - loss: 0.3147 - fault_output_loss: 0.1339 - location_output_loss: 0.1746 - gps_output_loss: 0.0062 - fault_output_categorical_accuracy: 0.9488 - fault_output_precision: 0.9557 - fault_output_recall: 0.9412 - fault_output_auc: 0.9969 - location_output_categorical_accuracy: 0.9340 - location_output_precision_1: 0.9360 - location_output_recall_1: 0.9332 - location_output_auc_1: 0.9959 - gps_output_categorical_accuracy: 1.0000 - gps_output_precision_2: 1.0000 - gps_output_recall_2: 1.0000 - gps_output_auc_2: 1.0000 - val_loss: 0.2998 - val_fault_output_loss: 0.1209 - val_location_output_loss: 0.1718 - val_gps_output_loss: 0.0071 - val_fault_output_categorical_accuracy: 0.9503 - val_fault_output_precision: 0.9608 - val_fault_output_recall: 0.9405 - val_fault_output_auc: 0.9975 - val_location_output_categorical_accuracy: 0.9341 - val_location_output_precision_1: 0.9353 - val_location_output_recall_1: 0.9335 - val_location_output_auc_1: 0.9963 - val_gps_output_categorical_accuracy: 1.0000 - val_gps_output_precision_2: 1.0000 - val_gps_output_recall_2: 1.0000 - val_gps_output_auc_2: 1.0000\n",
      "Epoch 7/12\n",
      "103/103 [==============================] - 5s 51ms/step - loss: 0.2764 - fault_output_loss: 0.1125 - location_output_loss: 0.1578 - gps_output_loss: 0.0061 - fault_output_categorical_accuracy: 0.9587 - fault_output_precision: 0.9641 - fault_output_recall: 0.9524 - fault_output_auc: 0.9977 - location_output_categorical_accuracy: 0.9347 - location_output_precision_1: 0.9368 - location_output_recall_1: 0.9333 - location_output_auc_1: 0.9965 - gps_output_categorical_accuracy: 1.0000 - gps_output_precision_2: 1.0000 - gps_output_recall_2: 1.0000 - gps_output_auc_2: 1.0000 - val_loss: 0.2608 - val_fault_output_loss: 0.1014 - val_location_output_loss: 0.1537 - val_gps_output_loss: 0.0058 - val_fault_output_categorical_accuracy: 0.9422 - val_fault_output_precision: 0.9448 - val_fault_output_recall: 0.9403 - val_fault_output_auc: 0.9978 - val_location_output_categorical_accuracy: 0.9350 - val_location_output_precision_1: 0.9372 - val_location_output_recall_1: 0.9335 - val_location_output_auc_1: 0.9967 - val_gps_output_categorical_accuracy: 1.0000 - val_gps_output_precision_2: 1.0000 - val_gps_output_recall_2: 1.0000 - val_gps_output_auc_2: 1.0000\n",
      "Epoch 8/12\n"
     ]
    },
    {
     "name": "stdout",
     "output_type": "stream",
     "text": [
      "103/103 [==============================] - 5s 50ms/step - loss: 0.2272 - fault_output_loss: 0.0874 - location_output_loss: 0.1348 - gps_output_loss: 0.0051 - fault_output_categorical_accuracy: 0.9696 - fault_output_precision: 0.9726 - fault_output_recall: 0.9662 - fault_output_auc: 0.9985 - location_output_categorical_accuracy: 0.9453 - location_output_precision_1: 0.9508 - location_output_recall_1: 0.9320 - location_output_auc_1: 0.9970 - gps_output_categorical_accuracy: 1.0000 - gps_output_precision_2: 1.0000 - gps_output_recall_2: 1.0000 - gps_output_auc_2: 1.0000 - val_loss: 0.1916 - val_fault_output_loss: 0.0671 - val_location_output_loss: 0.1202 - val_gps_output_loss: 0.0043 - val_fault_output_categorical_accuracy: 0.9862 - val_fault_output_precision: 0.9881 - val_fault_output_recall: 0.9839 - val_fault_output_auc: 0.9994 - val_location_output_categorical_accuracy: 0.9530 - val_location_output_precision_1: 0.9587 - val_location_output_recall_1: 0.9317 - val_location_output_auc_1: 0.9975 - val_gps_output_categorical_accuracy: 1.0000 - val_gps_output_precision_2: 1.0000 - val_gps_output_recall_2: 1.0000 - val_gps_output_auc_2: 1.0000\n",
      "Epoch 9/12\n",
      "103/103 [==============================] - 5s 50ms/step - loss: 0.1800 - fault_output_loss: 0.0637 - location_output_loss: 0.1119 - gps_output_loss: 0.0044 - fault_output_categorical_accuracy: 0.9815 - fault_output_precision: 0.9825 - fault_output_recall: 0.9804 - fault_output_auc: 0.9992 - location_output_categorical_accuracy: 0.9527 - location_output_precision_1: 0.9663 - location_output_recall_1: 0.9302 - location_output_auc_1: 0.9977 - gps_output_categorical_accuracy: 1.0000 - gps_output_precision_2: 1.0000 - gps_output_recall_2: 1.0000 - gps_output_auc_2: 1.0000 - val_loss: 0.1782 - val_fault_output_loss: 0.0584 - val_location_output_loss: 0.1171 - val_gps_output_loss: 0.0027 - val_fault_output_categorical_accuracy: 0.9684 - val_fault_output_precision: 0.9696 - val_fault_output_recall: 0.9672 - val_fault_output_auc: 0.9991 - val_location_output_categorical_accuracy: 0.9481 - val_location_output_precision_1: 0.9551 - val_location_output_recall_1: 0.9322 - val_location_output_auc_1: 0.9975 - val_gps_output_categorical_accuracy: 1.0000 - val_gps_output_precision_2: 1.0000 - val_gps_output_recall_2: 1.0000 - val_gps_output_auc_2: 1.0000\n",
      "Epoch 10/12\n",
      "103/103 [==============================] - 5s 50ms/step - loss: 0.1499 - fault_output_loss: 0.0485 - location_output_loss: 0.0980 - gps_output_loss: 0.0034 - fault_output_categorical_accuracy: 0.9870 - fault_output_precision: 0.9873 - fault_output_recall: 0.9866 - fault_output_auc: 0.9993 - location_output_categorical_accuracy: 0.9647 - location_output_precision_1: 0.9813 - location_output_recall_1: 0.9293 - location_output_auc_1: 0.9982 - gps_output_categorical_accuracy: 1.0000 - gps_output_precision_2: 1.0000 - gps_output_recall_2: 1.0000 - gps_output_auc_2: 1.0000 - val_loss: 0.1710 - val_fault_output_loss: 0.0547 - val_location_output_loss: 0.1145 - val_gps_output_loss: 0.0019 - val_fault_output_categorical_accuracy: 0.9673 - val_fault_output_precision: 0.9679 - val_fault_output_recall: 0.9666 - val_fault_output_auc: 0.9991 - val_location_output_categorical_accuracy: 0.9510 - val_location_output_precision_1: 0.9561 - val_location_output_recall_1: 0.9325 - val_location_output_auc_1: 0.9976 - val_gps_output_categorical_accuracy: 1.0000 - val_gps_output_precision_2: 1.0000 - val_gps_output_recall_2: 1.0000 - val_gps_output_auc_2: 1.0000\n",
      "Epoch 11/12\n",
      "103/103 [==============================] - 5s 50ms/step - loss: 0.1276 - fault_output_loss: 0.0392 - location_output_loss: 0.0863 - gps_output_loss: 0.0021 - fault_output_categorical_accuracy: 0.9897 - fault_output_precision: 0.9899 - fault_output_recall: 0.9895 - fault_output_auc: 0.9993 - location_output_categorical_accuracy: 0.9750 - location_output_precision_1: 0.9882 - location_output_recall_1: 0.9300 - location_output_auc_1: 0.9987 - gps_output_categorical_accuracy: 1.0000 - gps_output_precision_2: 1.0000 - gps_output_recall_2: 1.0000 - gps_output_auc_2: 1.0000 - val_loss: 0.1305 - val_fault_output_loss: 0.0414 - val_location_output_loss: 0.0875 - val_gps_output_loss: 0.0016 - val_fault_output_categorical_accuracy: 0.9869 - val_fault_output_precision: 0.9875 - val_fault_output_recall: 0.9863 - val_fault_output_auc: 0.9994 - val_location_output_categorical_accuracy: 0.9594 - val_location_output_precision_1: 0.9650 - val_location_output_recall_1: 0.9335 - val_location_output_auc_1: 0.9982 - val_gps_output_categorical_accuracy: 1.0000 - val_gps_output_precision_2: 1.0000 - val_gps_output_recall_2: 1.0000 - val_gps_output_auc_2: 1.0000\n",
      "Epoch 12/12\n",
      "103/103 [==============================] - 5s 49ms/step - loss: 0.1092 - fault_output_loss: 0.0340 - location_output_loss: 0.0737 - gps_output_loss: 0.0015 - fault_output_categorical_accuracy: 0.9912 - fault_output_precision: 0.9913 - fault_output_recall: 0.9910 - fault_output_auc: 0.9994 - location_output_categorical_accuracy: 0.9838 - location_output_precision_1: 0.9923 - location_output_recall_1: 0.9332 - location_output_auc_1: 0.9990 - gps_output_categorical_accuracy: 1.0000 - gps_output_precision_2: 1.0000 - gps_output_recall_2: 1.0000 - gps_output_auc_2: 1.0000 - val_loss: 0.1065 - val_fault_output_loss: 0.0335 - val_location_output_loss: 0.0719 - val_gps_output_loss: 0.0011 - val_fault_output_categorical_accuracy: 0.9922 - val_fault_output_precision: 0.9925 - val_fault_output_recall: 0.9920 - val_fault_output_auc: 0.9995 - val_location_output_categorical_accuracy: 0.9755 - val_location_output_precision_1: 0.9854 - val_location_output_recall_1: 0.9347 - val_location_output_auc_1: 0.9988 - val_gps_output_categorical_accuracy: 1.0000 - val_gps_output_precision_2: 1.0000 - val_gps_output_recall_2: 1.0000 - val_gps_output_auc_2: 1.0000\n"
     ]
    }
   ],
   "source": [
    "model_history = model.fit({'input': x_train},\n",
    "                            {'fault_output': y_train1, 'location_output': y_train2,'gps_output':t_train3},\n",
    "                            epochs=12, batch_size=25000, validation_data=({'input': x_test},{'fault_output': y_test1, 'location_output': y_test2,'gps_output':y_test3}))"
   ]
  },
  {
   "cell_type": "code",
   "execution_count": 53,
   "id": "06e452c3",
   "metadata": {},
   "outputs": [
    {
     "name": "stdout",
     "output_type": "stream",
     "text": [
      "52/52 [==============================] - 2s 45ms/step - loss: 0.1061 - fault_output_loss: 0.0333 - location_output_loss: 0.0717 - gps_output_loss: 0.0011 - fault_output_categorical_accuracy: 0.9924 - fault_output_precision: 0.9926 - fault_output_recall: 0.9922 - fault_output_auc: 0.9995 - location_output_categorical_accuracy: 0.9757 - location_output_precision_1: 0.9855 - location_output_recall_1: 0.9349 - location_output_auc_1: 0.9988 - gps_output_categorical_accuracy: 1.0000 - gps_output_precision_2: 1.0000 - gps_output_recall_2: 1.0000 - gps_output_auc_2: 1.0000\n"
     ]
    },
    {
     "data": {
      "text/plain": [
       "[0.10607489198446274,\n",
       " 0.03328631818294525,\n",
       " 0.07172386348247528,\n",
       " 0.0010647103190422058,\n",
       " 0.992414653301239,\n",
       " 0.992626428604126,\n",
       " 0.992222785949707,\n",
       " 0.9995168447494507,\n",
       " 0.9756631255149841,\n",
       " 0.9854881167411804,\n",
       " 0.9348557591438293,\n",
       " 0.9987790584564209,\n",
       " 1.0,\n",
       " 1.0,\n",
       " 1.0,\n",
       " 1.0000001192092896]"
      ]
     },
     "execution_count": 53,
     "metadata": {},
     "output_type": "execute_result"
    }
   ],
   "source": [
    "model.evaluate({'input': x_train},\n",
    "                            {'fault_output': y_train1, 'location_output': y_train2,'gps_output':t_train3},batch_size=50000)"
   ]
  },
  {
   "cell_type": "code",
   "execution_count": 54,
   "id": "7958f560",
   "metadata": {},
   "outputs": [
    {
     "name": "stdout",
     "output_type": "stream",
     "text": [
      "13/13 [==============================] - 1s 43ms/step - loss: 0.1065 - fault_output_loss: 0.0335 - location_output_loss: 0.0719 - gps_output_loss: 0.0011 - fault_output_categorical_accuracy: 0.9922 - fault_output_precision: 0.9925 - fault_output_recall: 0.9920 - fault_output_auc: 0.9995 - location_output_categorical_accuracy: 0.9755 - location_output_precision_1: 0.9854 - location_output_recall_1: 0.9347 - location_output_auc_1: 0.9988 - gps_output_categorical_accuracy: 1.0000 - gps_output_precision_2: 1.0000 - gps_output_recall_2: 1.0000 - gps_output_auc_2: 1.0000\n"
     ]
    },
    {
     "data": {
      "text/plain": [
       "[0.1064683049917221,\n",
       " 0.03349394351243973,\n",
       " 0.07191023975610733,\n",
       " 0.0010641395347192883,\n",
       " 0.9922371506690979,\n",
       " 0.9924502372741699,\n",
       " 0.9920176863670349,\n",
       " 0.9995047450065613,\n",
       " 0.975502073764801,\n",
       " 0.985419511795044,\n",
       " 0.9347296953201294,\n",
       " 0.9987645745277405,\n",
       " 1.0,\n",
       " 1.0,\n",
       " 1.0,\n",
       " 0.9999999403953552]"
      ]
     },
     "execution_count": 54,
     "metadata": {},
     "output_type": "execute_result"
    }
   ],
   "source": [
    "model.evaluate({'input': x_test},{'fault_output': y_test1, 'location_output': y_test2,'gps_output':y_test3},batch_size=50000)"
   ]
  },
  {
   "cell_type": "code",
   "execution_count": 17,
   "id": "b2d500e3",
   "metadata": {},
   "outputs": [
    {
     "data": {
      "image/png": "[encoded data removed]",
      "text/plain": [
       "<Figure size 360x360 with 1 Axes>"
      ]
     },
     "metadata": {
      "needs_background": "light"
     },
     "output_type": "display_data"
    }
   ],
   "source": [
    "import matplotlib.pyplot as plt\n",
    "plt.figure(figsize=(5,5))\n",
    "plt.title(\"Loss curve- Training\")\n",
    "plt.plot(model_history.history[\"fault_output_loss\"], label=\"loss for fault\")\n",
    "plt.plot(model_history.history[\"location_output_loss\"], label=\"loss for location\")\n",
    "plt.plot(model_history.history[\"gps_output_loss\"], label=\"loss for gps quality\")\n",
    "plt.xlabel(\"Epochs\")\n",
    "plt.ylabel(\"value (log scale)\")\n",
    "plt.legend();"
   ]
  },
  {
   "cell_type": "code",
   "execution_count": 18,
   "id": "993e2025",
   "metadata": {},
   "outputs": [
    {
     "data": {
      "image/png": "[encoded data removed]",
      "text/plain": [
       "<Figure size 360x360 with 1 Axes>"
      ]
     },
     "metadata": {
      "needs_background": "light"
     },
     "output_type": "display_data"
    }
   ],
   "source": [
    "import matplotlib.pyplot as plt\n",
    "plt.figure(figsize=(5,5))\n",
    "plt.title(\"Loss curve- Testing\")\n",
    "plt.plot(model_history.history[\"val_fault_output_loss\"], label=\"loss for fault\")\n",
    "plt.plot(model_history.history[\"val_location_output_loss\"], label=\"loss for location\")\n",
    "plt.plot(model_history.history[\"val_gps_output_loss\"], label=\"loss for gps quality\")\n",
    "plt.xlabel(\"Epochs\")\n",
    "plt.ylabel(\"value (log scale)\")\n",
    "plt.legend();"
   ]
  },
  {
   "cell_type": "code",
   "execution_count": 19,
   "id": "3b8b271c",
   "metadata": {},
   "outputs": [
    {
     "data": {
      "image/png": "[encoded data removed]",
      "text/plain": [
       "<Figure size 360x360 with 1 Axes>"
      ]
     },
     "metadata": {
      "needs_background": "light"
     },
     "output_type": "display_data"
    }
   ],
   "source": [
    "import matplotlib.pyplot as plt\n",
    "plt.figure(figsize=(5,5))\n",
    "plt.title(\"Precision curve-Training\")\n",
    "plt.plot(model_history.history[\"fault_output_precision\"], label=\"precision for fault\")\n",
    "plt.plot(model_history.history[\"location_output_precision_1\"], label=\"precision for location\")\n",
    "plt.plot(model_history.history[\"gps_output_precision_2\"], label=\"precision for gps quality\")\n",
    "plt.xlabel(\"Epochs\")\n",
    "plt.ylabel(\"value (log scale)\")\n",
    "plt.legend();"
   ]
  },
  {
   "cell_type": "code",
   "execution_count": 20,
   "id": "f41a7048",
   "metadata": {},
   "outputs": [
    {
     "data": {
      "image/png": "[encoded data removed]",
      "text/plain": [
       "<Figure size 360x360 with 1 Axes>"
      ]
     },
     "metadata": {
      "needs_background": "light"
     },
     "output_type": "display_data"
    }
   ],
   "source": [
    "import matplotlib.pyplot as plt\n",
    "plt.figure(figsize=(5,5))\n",
    "plt.title(\"Precision curve-Testing\")\n",
    "plt.plot(model_history.history[\"val_fault_output_precision\"], label=\"precision for fault\")\n",
    "plt.plot(model_history.history[\"val_location_output_precision_1\"], label=\"precision for location\")\n",
    "plt.plot(model_history.history[\"val_gps_output_precision_2\"], label=\"precision for gps quality\")\n",
    "plt.xlabel(\"Epochs\")\n",
    "plt.ylabel(\"value (log scale)\")\n",
    "plt.legend();"
   ]
  },
  {
   "cell_type": "code",
   "execution_count": 21,
   "id": "6f0de213",
   "metadata": {},
   "outputs": [
    {
     "data": {
      "image/png": "[encoded data removed]",
      "text/plain": [
       "<Figure size 360x360 with 1 Axes>"
      ]
     },
     "metadata": {
      "needs_background": "light"
     },
     "output_type": "display_data"
    }
   ],
   "source": [
    "import matplotlib.pyplot as plt\n",
    "plt.figure(figsize=(5,5))\n",
    "plt.title(\"Recall curve-Training\")\n",
    "plt.plot(model_history.history[\"fault_output_recall\"], label=\"recall for fault\")\n",
    "plt.plot(model_history.history[\"location_output_recall_1\"], label=\"recall for location\")\n",
    "plt.plot(model_history.history[\"gps_output_recall_2\"], label=\"recall for gps quality\")\n",
    "plt.xlabel(\"Epochs\")\n",
    "plt.ylabel(\"value (log scale)\")\n",
    "plt.legend();"
   ]
  },
  {
   "cell_type": "code",
   "execution_count": 22,
   "id": "b41b8e57",
   "metadata": {},
   "outputs": [
    {
     "data": {
      "image/png": "[encoded data removed]",
      "text/plain": [
       "<Figure size 360x360 with 1 Axes>"
      ]
     },
     "metadata": {
      "needs_background": "light"
     },
     "output_type": "display_data"
    }
   ],
   "source": [
    "import matplotlib.pyplot as plt\n",
    "plt.figure(figsize=(5,5))\n",
    "plt.title(\"Recall curve-Testing\")\n",
    "plt.plot(model_history.history[\"val_fault_output_recall\"], label=\"recall for fault\")\n",
    "plt.plot(model_history.history[\"val_location_output_recall_1\"], label=\"recall for location\")\n",
    "plt.plot(model_history.history[\"val_gps_output_recall_2\"], label=\"recall for gps quality\")\n",
    "plt.xlabel(\"Epochs\")\n",
    "plt.ylabel(\"value (log scale)\")\n",
    "plt.legend();"
   ]
  },
  {
   "cell_type": "code",
   "execution_count": 23,
   "id": "6076c155",
   "metadata": {},
   "outputs": [
    {
     "data": {
      "image/png": "[encoded data removed]",
      "text/plain": [
       "<Figure size 360x360 with 1 Axes>"
      ]
     },
     "metadata": {
      "needs_background": "light"
     },
     "output_type": "display_data"
    }
   ],
   "source": [
    "import matplotlib.pyplot as plt\n",
    "plt.figure(figsize=(5,5))\n",
    "plt.title(\"AUC curve-training\")\n",
    "plt.plot(model_history.history[\"fault_output_auc\"], label=\"auc for fault\")\n",
    "plt.plot(model_history.history[\"location_output_auc_1\"], label=\"auc for location\")\n",
    "plt.plot(model_history.history[\"gps_output_auc_2\"], label=\"auc for gps quality\")\n",
    "plt.xlabel(\"Epochs\")\n",
    "plt.ylabel(\"value (log scale)\")\n",
    "plt.legend();"
   ]
  },
  {
   "cell_type": "code",
   "execution_count": 24,
   "id": "52c83e83",
   "metadata": {},
   "outputs": [
    {
     "data": {
      "image/png": "[encoded data removed]",
      "text/plain": [
       "<Figure size 360x360 with 1 Axes>"
      ]
     },
     "metadata": {
      "needs_background": "light"
     },
     "output_type": "display_data"
    }
   ],
   "source": [
    "import matplotlib.pyplot as plt\n",
    "plt.figure(figsize=(5,5))\n",
    "plt.title(\"AUC curve-testing\")\n",
    "plt.plot(model_history.history[\"val_fault_output_auc\"], label=\"auc for fault\")\n",
    "plt.plot(model_history.history[\"val_location_output_auc_1\"], label=\"auc for location\")\n",
    "plt.plot(model_history.history[\"val_gps_output_auc_2\"], label=\"auc for gps quality\")\n",
    "plt.xlabel(\"Epochs\")\n",
    "plt.ylabel(\"value (log scale)\")\n",
    "plt.legend();"
   ]
  },
  {
   "cell_type": "code",
   "execution_count": 55,
   "id": "6658c6b1",
   "metadata": {},
   "outputs": [],
   "source": [
    "model.save('metropt multitask ann model-1.h5')"
   ]
  },
  {
   "cell_type": "code",
   "execution_count": 20,
   "id": "e3d4ee40",
   "metadata": {},
   "outputs": [
    {
     "name": "stdout",
     "output_type": "stream",
     "text": [
      "20076/20076 [==============================] - 38s 2ms/step\n",
      "fault classification CM-test\n"
     ]
    },
    {
     "data": {
      "text/plain": [
       "<Axes: >"
      ]
     },
     "execution_count": 20,
     "metadata": {},
     "output_type": "execute_result"
    },
    {
     "data": {
      "image/png": "[encoded data removed]",
      "text/plain": [
       "<Figure size 432x288 with 2 Axes>"
      ]
     },
     "metadata": {
      "needs_background": "light"
     },
     "output_type": "display_data"
    }
   ],
   "source": [
    "from sklearn.metrics import confusion_matrix, classification_report\n",
    "import seaborn as sns\n",
    "y_pred=model.predict(x_test)\n",
    "y_pred_1= y_pred[0]\n",
    "y_pred_2=y_pred[1]\n",
    "y_pred_3=y_pred[2]\n",
    "y_pred_1= np.argmax(y_pred_1,axis=1)\n",
    "y_pred_2= np.argmax(y_pred_2,axis=1)\n",
    "y_test1= np.argmax(y_test1,axis=1)\n",
    "y_test2= np.argmax(y_test2,axis=1)\n",
    "print('fault classification CM-test')\n",
    "sns.heatmap(confusion_matrix(y_test1,y_pred_1), annot=True)"
   ]
  },
  {
   "cell_type": "code",
   "execution_count": 21,
   "id": "fe9743ea",
   "metadata": {},
   "outputs": [
    {
     "name": "stdout",
     "output_type": "stream",
     "text": [
      "0.9923679331777759\n",
      "0.9931524654393303\n",
      "0.9999844338836993\n"
     ]
    }
   ],
   "source": [
    "from sklearn.metrics import accuracy_score\n",
    "y_pred_3=(y_pred_3>=0.5)\n",
    "print(accuracy_score(y_pred_1,y_test1))\n",
    "print(accuracy_score(y_pred_2,y_test2))\n",
    "print(accuracy_score(y_pred_3,y_test3))"
   ]
  },
  {
   "cell_type": "code",
   "execution_count": 27,
   "id": "fa15432a",
   "metadata": {},
   "outputs": [
    {
     "name": "stdout",
     "output_type": "stream",
     "text": [
      "location classification CM-test\n"
     ]
    },
    {
     "data": {
      "text/plain": [
       "<Axes: >"
      ]
     },
     "execution_count": 27,
     "metadata": {},
     "output_type": "execute_result"
    },
    {
     "data": {
      "image/png": "[encoded data removed]",
      "text/plain": [
       "<Figure size 432x288 with 2 Axes>"
      ]
     },
     "metadata": {
      "needs_background": "light"
     },
     "output_type": "display_data"
    }
   ],
   "source": [
    "print('location classification CM-test')\n",
    "sns.heatmap(confusion_matrix(y_test2,y_pred_2), annot=True)"
   ]
  },
  {
   "cell_type": "code",
   "execution_count": 28,
   "id": "73184c6a",
   "metadata": {},
   "outputs": [
    {
     "name": "stdout",
     "output_type": "stream",
     "text": [
      "gps quality classification CM-test\n"
     ]
    },
    {
     "data": {
      "text/plain": [
       "<Axes: >"
      ]
     },
     "execution_count": 28,
     "metadata": {},
     "output_type": "execute_result"
    },
    {
     "data": {
      "image/png": "[encoded data removed]",
      "text/plain": [
       "<Figure size 432x288 with 2 Axes>"
      ]
     },
     "metadata": {
      "needs_background": "light"
     },
     "output_type": "display_data"
    }
   ],
   "source": [
    "print('gps quality classification CM-test')\n",
    "sns.heatmap(confusion_matrix(y_test3,y_pred_3), annot=True)"
   ]
  },
  {
   "cell_type": "code",
   "execution_count": 29,
   "id": "edab8864",
   "metadata": {},
   "outputs": [
    {
     "name": "stdout",
     "output_type": "stream",
     "text": [
      "fault classification classification report\n",
      "              precision    recall  f1-score   support\n",
      "\n",
      "           0       0.98      1.00      0.99      3324\n",
      "           1       1.00      1.00      1.00     39097\n",
      "           2       1.00      1.00      1.00    600000\n",
      "\n",
      "    accuracy                           1.00    642421\n",
      "   macro avg       0.99      1.00      1.00    642421\n",
      "weighted avg       1.00      1.00      1.00    642421\n",
      "\n"
     ]
    }
   ],
   "source": [
    "from sklearn.metrics import classification_report\n",
    "print('fault classification classification report')\n",
    "print(classification_report(y_test1,y_pred_1))"
   ]
  },
  {
   "cell_type": "code",
   "execution_count": 30,
   "id": "9d41d1d5",
   "metadata": {},
   "outputs": [
    {
     "name": "stdout",
     "output_type": "stream",
     "text": [
      "location classification classification report\n",
      "              precision    recall  f1-score   support\n",
      "\n",
      "           0       1.00      1.00      1.00       380\n",
      "           1       1.00      1.00      1.00      2944\n",
      "           2       1.00      1.00      1.00     39097\n",
      "           3       1.00      1.00      1.00    600000\n",
      "\n",
      "    accuracy                           1.00    642421\n",
      "   macro avg       1.00      1.00      1.00    642421\n",
      "weighted avg       1.00      1.00      1.00    642421\n",
      "\n"
     ]
    }
   ],
   "source": [
    "print('location classification classification report')\n",
    "print(classification_report(y_test2,y_pred_2))"
   ]
  },
  {
   "cell_type": "code",
   "execution_count": 31,
   "id": "caa54eaf",
   "metadata": {},
   "outputs": [
    {
     "name": "stdout",
     "output_type": "stream",
     "text": [
      "gps quality classification classification report\n",
      "              precision    recall  f1-score   support\n",
      "\n",
      "         0.0       1.00      1.00      1.00    304989\n",
      "         1.0       1.00      1.00      1.00    337432\n",
      "\n",
      "    accuracy                           1.00    642421\n",
      "   macro avg       1.00      1.00      1.00    642421\n",
      "weighted avg       1.00      1.00      1.00    642421\n",
      "\n"
     ]
    }
   ],
   "source": [
    "print('gps quality classification classification report')\n",
    "print(classification_report(y_test3,y_pred_3))"
   ]
  }
 ],
 "metadata": {
  "kernelspec": {
   "display_name": "Python 3",
   "language": "python",
   "name": "python3"
  },
  "language_info": {
   "codemirror_mode": {
    "name": "ipython",
    "version": 3
   },
   "file_extension": ".py",
   "mimetype": "text/x-python",
   "name": "python",
   "nbconvert_exporter": "python",
   "pygments_lexer": "ipython3",
   "version": "3.8.8"
  }
 },
 "nbformat": 4,
 "nbformat_minor": 5
}
